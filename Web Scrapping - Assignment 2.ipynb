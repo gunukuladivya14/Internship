{
 "cells": [
  {
   "cell_type": "code",
   "execution_count": 1,
   "id": "1723c9c2",
   "metadata": {
    "tags": []
   },
   "outputs": [
    {
     "name": "stdout",
     "output_type": "stream",
     "text": [
      "Requirement already satisfied: selenium in c:\\users\\divya reddy\\anaconda3\\lib\\site-packages (4.10.0)\n",
      "Requirement already satisfied: urllib3[socks]<3,>=1.26 in c:\\users\\divya reddy\\anaconda3\\lib\\site-packages (from selenium) (1.26.16)\n",
      "Requirement already satisfied: trio~=0.17 in c:\\users\\divya reddy\\anaconda3\\lib\\site-packages (from selenium) (0.22.2)\n",
      "Requirement already satisfied: trio-websocket~=0.9 in c:\\users\\divya reddy\\anaconda3\\lib\\site-packages (from selenium) (0.10.3)\n",
      "Requirement already satisfied: certifi>=2021.10.8 in c:\\users\\divya reddy\\anaconda3\\lib\\site-packages (from selenium) (2023.5.7)\n",
      "Requirement already satisfied: attrs>=20.1.0 in c:\\users\\divya reddy\\anaconda3\\lib\\site-packages (from trio~=0.17->selenium) (22.1.0)\n",
      "Requirement already satisfied: sortedcontainers in c:\\users\\divya reddy\\anaconda3\\lib\\site-packages (from trio~=0.17->selenium) (2.4.0)\n",
      "Requirement already satisfied: idna in c:\\users\\divya reddy\\anaconda3\\lib\\site-packages (from trio~=0.17->selenium) (3.4)\n",
      "Requirement already satisfied: outcome in c:\\users\\divya reddy\\anaconda3\\lib\\site-packages (from trio~=0.17->selenium) (1.2.0)\n",
      "Requirement already satisfied: sniffio in c:\\users\\divya reddy\\anaconda3\\lib\\site-packages (from trio~=0.17->selenium) (1.2.0)\n",
      "Requirement already satisfied: cffi>=1.14 in c:\\users\\divya reddy\\anaconda3\\lib\\site-packages (from trio~=0.17->selenium) (1.15.1)\n",
      "Requirement already satisfied: exceptiongroup>=1.0.0rc9 in c:\\users\\divya reddy\\anaconda3\\lib\\site-packages (from trio~=0.17->selenium) (1.0.4)\n",
      "Requirement already satisfied: wsproto>=0.14 in c:\\users\\divya reddy\\anaconda3\\lib\\site-packages (from trio-websocket~=0.9->selenium) (1.2.0)\n",
      "Requirement already satisfied: PySocks!=1.5.7,<2.0,>=1.5.6 in c:\\users\\divya reddy\\anaconda3\\lib\\site-packages (from urllib3[socks]<3,>=1.26->selenium) (1.7.1)\n",
      "Requirement already satisfied: pycparser in c:\\users\\divya reddy\\anaconda3\\lib\\site-packages (from cffi>=1.14->trio~=0.17->selenium) (2.21)\n",
      "Requirement already satisfied: h11<1,>=0.9.0 in c:\\users\\divya reddy\\anaconda3\\lib\\site-packages (from wsproto>=0.14->trio-websocket~=0.9->selenium) (0.14.0)\n"
     ]
    }
   ],
   "source": [
    "!pip install selenium"
   ]
  },
  {
   "cell_type": "code",
   "execution_count": 2,
   "id": "fc8fadde",
   "metadata": {
    "tags": []
   },
   "outputs": [
    {
     "name": "stdout",
     "output_type": "stream",
     "text": [
      "Requirement already satisfied: webdriver-manager in c:\\users\\divya reddy\\anaconda3\\lib\\site-packages (3.8.6)\n",
      "Requirement already satisfied: requests in c:\\users\\divya reddy\\anaconda3\\lib\\site-packages (from webdriver-manager) (2.29.0)\n",
      "Requirement already satisfied: python-dotenv in c:\\users\\divya reddy\\anaconda3\\lib\\site-packages (from webdriver-manager) (1.0.0)\n",
      "Requirement already satisfied: tqdm in c:\\users\\divya reddy\\anaconda3\\lib\\site-packages (from webdriver-manager) (4.65.0)\n",
      "Requirement already satisfied: packaging in c:\\users\\divya reddy\\anaconda3\\lib\\site-packages (from webdriver-manager) (23.0)\n",
      "Requirement already satisfied: charset-normalizer<4,>=2 in c:\\users\\divya reddy\\anaconda3\\lib\\site-packages (from requests->webdriver-manager) (2.0.4)\n",
      "Requirement already satisfied: idna<4,>=2.5 in c:\\users\\divya reddy\\anaconda3\\lib\\site-packages (from requests->webdriver-manager) (3.4)\n",
      "Requirement already satisfied: urllib3<1.27,>=1.21.1 in c:\\users\\divya reddy\\anaconda3\\lib\\site-packages (from requests->webdriver-manager) (1.26.16)\n",
      "Requirement already satisfied: certifi>=2017.4.17 in c:\\users\\divya reddy\\anaconda3\\lib\\site-packages (from requests->webdriver-manager) (2023.5.7)\n",
      "Requirement already satisfied: colorama in c:\\users\\divya reddy\\anaconda3\\lib\\site-packages (from tqdm->webdriver-manager) (0.4.6)\n"
     ]
    }
   ],
   "source": [
    "!pip install webdriver-manager\n",
    "\n"
   ]
  },
  {
   "cell_type": "markdown",
   "id": "a3a29cdb",
   "metadata": {},
   "source": [
    "Q1: Write a python program to scrape data for “Data Analyst” Job position in “Bangalore” location. You\n",
    "have to scrape the job-title, job-location, company_name, experience_required. You have to scrape first 10\n",
    "jobs data."
   ]
  },
  {
   "cell_type": "code",
   "execution_count": 3,
   "id": "28a4d04c",
   "metadata": {
    "tags": []
   },
   "outputs": [],
   "source": [
    "import selenium\n",
    "import pandas as pd\n",
    "from selenium import webdriver\n",
    "from selenium.webdriver.common.by import By\n",
    "import warnings\n",
    "warnings.filterwarnings(\"ignore\")\n",
    "import time\n",
    "\n"
   ]
  },
  {
   "cell_type": "code",
   "execution_count": 6,
   "id": "91b288ca",
   "metadata": {},
   "outputs": [],
   "source": [
    "driver = webdriver.Chrome()"
   ]
  },
  {
   "cell_type": "code",
   "execution_count": 7,
   "id": "12dba0ee",
   "metadata": {},
   "outputs": [],
   "source": [
    "# 1. First get the webpage\n",
    "driver.get(\"https://www.naukri.com/\")"
   ]
  },
  {
   "cell_type": "code",
   "execution_count": 8,
   "id": "2e80f93d",
   "metadata": {},
   "outputs": [],
   "source": [
    "# entering designation and location as required in the question\n",
    "\n",
    "designation = driver.find_element(By.CLASS_NAME,\"suggestor-input\")\n",
    "designation.send_keys('Data Analyst')"
   ]
  },
  {
   "cell_type": "code",
   "execution_count": 9,
   "id": "736fc303",
   "metadata": {},
   "outputs": [],
   "source": [
    "location = driver.find_element(By.XPATH,\"/html/body/div[1]/div[7]/div/div/div[5]/div/div/div/div[1]/div/input\")\n",
    "location.send_keys('Bangalore')"
   ]
  },
  {
   "cell_type": "code",
   "execution_count": 10,
   "id": "810adb63",
   "metadata": {},
   "outputs": [],
   "source": [
    "#Then click the searchbutton.\n",
    "\n",
    "search = driver.find_element(By.CLASS_NAME, \"qsbSubmit\")\n",
    "search.click()"
   ]
  },
  {
   "cell_type": "code",
   "execution_count": 11,
   "id": "3f4104e5",
   "metadata": {},
   "outputs": [],
   "source": [
    "job_title = []\n",
    "job_location = []\n",
    "company_name =[]\n",
    "experience_required = []"
   ]
  },
  {
   "cell_type": "code",
   "execution_count": 12,
   "id": "73360a2a",
   "metadata": {},
   "outputs": [],
   "source": [
    "#Then scraping the data for the first 10 jobs results.\n",
    "\n",
    "title_tags = driver.find_elements(By.XPATH, '//a[@class=\"title ellipsis\"]')\n",
    "\n",
    "for i in title_tags[0:10]:\n",
    "    title = i.text\n",
    "    job_title.append(title)\n"
   ]
  },
  {
   "cell_type": "code",
   "execution_count": 13,
   "id": "8401c4ff",
   "metadata": {},
   "outputs": [],
   "source": [
    "location_tags = driver.find_elements(By.XPATH,'//span[@class=\"ellipsis fleft locWdth\"]')\n",
    "\n",
    "for i in location_tags[0:10]:\n",
    "    location = i.text\n",
    "    job_location.append(location)"
   ]
  },
  {
   "cell_type": "code",
   "execution_count": 14,
   "id": "cc92000b",
   "metadata": {},
   "outputs": [],
   "source": [
    "company_tags = driver.find_elements(By.XPATH,'//a[@class=\"subTitle ellipsis fleft\"]')\n",
    "\n",
    "for i in company_tags[0:10]:\n",
    "    company = i.text\n",
    "    company_name.append(company)"
   ]
  },
  {
   "cell_type": "code",
   "execution_count": 15,
   "id": "52a7fcb1",
   "metadata": {},
   "outputs": [],
   "source": [
    "experience_tags = driver.find_elements(By.XPATH,'//span[@class=\"ellipsis fleft expwdth\"]')\n",
    "\n",
    "for i in experience_tags[0:10]:\n",
    "    experience = i.text\n",
    "    experience_required.append(experience)"
   ]
  },
  {
   "cell_type": "code",
   "execution_count": 16,
   "id": "8ce41f7d",
   "metadata": {},
   "outputs": [
    {
     "name": "stdout",
     "output_type": "stream",
     "text": [
      "0 0 0 0\n"
     ]
    }
   ],
   "source": [
    "print(len(job_title),len(job_location),len(company_name), len(experience_required))"
   ]
  },
  {
   "cell_type": "code",
   "execution_count": 17,
   "id": "a2fa17c6",
   "metadata": {},
   "outputs": [],
   "source": [
    "#creating DataFrame of Scrapped data\n",
    "\n",
    "import pandas as pd "
   ]
  },
  {
   "cell_type": "code",
   "execution_count": 18,
   "id": "e3cc1ba1",
   "metadata": {},
   "outputs": [],
   "source": [
    "df = pd.DataFrame({'Title':job_title, 'Location':job_location, 'Company_name':company_name, 'Experience':experience_required})"
   ]
  },
  {
   "cell_type": "code",
   "execution_count": 19,
   "id": "26a5c448",
   "metadata": {},
   "outputs": [
    {
     "data": {
      "text/html": [
       "<div>\n",
       "<style scoped>\n",
       "    .dataframe tbody tr th:only-of-type {\n",
       "        vertical-align: middle;\n",
       "    }\n",
       "\n",
       "    .dataframe tbody tr th {\n",
       "        vertical-align: top;\n",
       "    }\n",
       "\n",
       "    .dataframe thead th {\n",
       "        text-align: right;\n",
       "    }\n",
       "</style>\n",
       "<table border=\"1\" class=\"dataframe\">\n",
       "  <thead>\n",
       "    <tr style=\"text-align: right;\">\n",
       "      <th></th>\n",
       "      <th>Title</th>\n",
       "      <th>Location</th>\n",
       "      <th>Company_name</th>\n",
       "      <th>Experience</th>\n",
       "    </tr>\n",
       "  </thead>\n",
       "  <tbody>\n",
       "  </tbody>\n",
       "</table>\n",
       "</div>"
      ],
      "text/plain": [
       "Empty DataFrame\n",
       "Columns: [Title, Location, Company_name, Experience]\n",
       "Index: []"
      ]
     },
     "execution_count": 19,
     "metadata": {},
     "output_type": "execute_result"
    }
   ],
   "source": [
    "df"
   ]
  },
  {
   "cell_type": "markdown",
   "id": "a35ce665",
   "metadata": {},
   "source": [
    "Q2:Write a python program to scrape data for “Data Scientist” Job position in “Bangalore” location. You\n",
    "have to scrape the job-title, job-location, company_name. You have to scrape first 10 jobs data.\n",
    "This task will be done in following steps:"
   ]
  },
  {
   "cell_type": "code",
   "execution_count": 20,
   "id": "b1a00ee0",
   "metadata": {},
   "outputs": [],
   "source": [
    "import selenium\n",
    "import pandas as pd\n",
    "from selenium import webdriver\n",
    "from selenium.webdriver.common.by import By\n",
    "import warnings\n",
    "warnings.filterwarnings(\"ignore\")\n",
    "import time"
   ]
  },
  {
   "cell_type": "code",
   "execution_count": 21,
   "id": "04dc6adb",
   "metadata": {},
   "outputs": [],
   "source": [
    "driver = webdriver.Chrome()"
   ]
  },
  {
   "cell_type": "code",
   "execution_count": 22,
   "id": "66e1735a",
   "metadata": {},
   "outputs": [],
   "source": [
    "#first get the webpage\n",
    "\n",
    "driver.get(\"https://www.naukri.com/\")"
   ]
  },
  {
   "cell_type": "code",
   "execution_count": 23,
   "id": "67b71b93",
   "metadata": {},
   "outputs": [],
   "source": [
    "# entering designation and location as required in the question\n",
    "\n",
    "designation = driver.find_element(By.CLASS_NAME,\"suggestor-input\")\n",
    "designation.send_keys('Data Scientist')"
   ]
  },
  {
   "cell_type": "code",
   "execution_count": 24,
   "id": "daa844a7",
   "metadata": {},
   "outputs": [],
   "source": [
    "location = driver.find_element(By.XPATH,\"/html/body/div[1]/div[7]/div/div/div[5]/div/div/div/div[1]/div/input\")\n",
    "location.send_keys('Bangalore')"
   ]
  },
  {
   "cell_type": "code",
   "execution_count": 25,
   "id": "1339c43e",
   "metadata": {},
   "outputs": [],
   "source": [
    "#Then click the searchbutton.\n",
    "\n",
    "search = driver.find_element(By.XPATH, \"/html/body/div[1]/div[7]/div/div/div[6]\")\n",
    "search.click()"
   ]
  },
  {
   "cell_type": "code",
   "execution_count": 26,
   "id": "e7b15576",
   "metadata": {},
   "outputs": [],
   "source": [
    "job_title = []\n",
    "job_location = []\n",
    "company_name =[]\n"
   ]
  },
  {
   "cell_type": "code",
   "execution_count": 27,
   "id": "722d2d3a",
   "metadata": {},
   "outputs": [],
   "source": [
    "#Then scraping the data for the first 10 jobs results.\n",
    "\n",
    "title_tags = driver.find_elements(By.XPATH, '//a[@class=\"title ellipsis\"]')\n",
    "\n",
    "for i in title_tags[0:10]:\n",
    "    title = i.text\n",
    "    job_title.append(title)\n"
   ]
  },
  {
   "cell_type": "code",
   "execution_count": 28,
   "id": "1087d76a",
   "metadata": {},
   "outputs": [],
   "source": [
    "location_tags = driver.find_elements(By.XPATH,'//span[@class=\"ellipsis fleft locWdth\"]')\n",
    "\n",
    "for i in location_tags[0:10]:\n",
    "    location = i.text\n",
    "    job_location.append(location)"
   ]
  },
  {
   "cell_type": "code",
   "execution_count": 29,
   "id": "db4ceb0e",
   "metadata": {},
   "outputs": [],
   "source": [
    "company_tags = driver.find_elements(By.XPATH,'//a[@class=\"subTitle ellipsis fleft\"]')\n",
    "\n",
    "for i in company_tags[0:10]:\n",
    "    company = i.text\n",
    "    company_name.append(company)"
   ]
  },
  {
   "cell_type": "code",
   "execution_count": 30,
   "id": "f3359ee4",
   "metadata": {},
   "outputs": [
    {
     "name": "stdout",
     "output_type": "stream",
     "text": [
      "0 0 0\n"
     ]
    }
   ],
   "source": [
    "print(len(job_title),len(job_location),len(company_name))"
   ]
  },
  {
   "cell_type": "code",
   "execution_count": 31,
   "id": "19bac87e",
   "metadata": {},
   "outputs": [],
   "source": [
    "#creating DataFrame of Scrapped data\n",
    "\n",
    "import pandas as pd "
   ]
  },
  {
   "cell_type": "code",
   "execution_count": 32,
   "id": "4d1e0507",
   "metadata": {},
   "outputs": [],
   "source": [
    "df = pd.DataFrame({'Title':job_title, 'Location':job_location, 'Company_name':company_name})"
   ]
  },
  {
   "cell_type": "code",
   "execution_count": 33,
   "id": "4c3c681f",
   "metadata": {},
   "outputs": [
    {
     "data": {
      "text/html": [
       "<div>\n",
       "<style scoped>\n",
       "    .dataframe tbody tr th:only-of-type {\n",
       "        vertical-align: middle;\n",
       "    }\n",
       "\n",
       "    .dataframe tbody tr th {\n",
       "        vertical-align: top;\n",
       "    }\n",
       "\n",
       "    .dataframe thead th {\n",
       "        text-align: right;\n",
       "    }\n",
       "</style>\n",
       "<table border=\"1\" class=\"dataframe\">\n",
       "  <thead>\n",
       "    <tr style=\"text-align: right;\">\n",
       "      <th></th>\n",
       "      <th>Title</th>\n",
       "      <th>Location</th>\n",
       "      <th>Company_name</th>\n",
       "    </tr>\n",
       "  </thead>\n",
       "  <tbody>\n",
       "  </tbody>\n",
       "</table>\n",
       "</div>"
      ],
      "text/plain": [
       "Empty DataFrame\n",
       "Columns: [Title, Location, Company_name]\n",
       "Index: []"
      ]
     },
     "execution_count": 33,
     "metadata": {},
     "output_type": "execute_result"
    }
   ],
   "source": [
    "df"
   ]
  },
  {
   "cell_type": "markdown",
   "id": "807c2491",
   "metadata": {},
   "source": [
    "Q3: In this question you have to scrape data using the filters available on the webpage as shown below:\n",
    "\n",
    "You have to use the location and salary filter.\n",
    "You have to scrape data for “Data Scientist” designation for first 10 job results.\n",
    "You have to scrape the job-title, job-location, company name, experience required.\n",
    "The location filter to be used is “Delhi/NCR”. The salary filter to be used is “3-6” lakhs"
   ]
  },
  {
   "cell_type": "code",
   "execution_count": null,
   "id": "fda991c0",
   "metadata": {},
   "outputs": [],
   "source": []
  },
  {
   "cell_type": "code",
   "execution_count": null,
   "id": "7e2eeaa8",
   "metadata": {},
   "outputs": [],
   "source": []
  },
  {
   "cell_type": "code",
   "execution_count": null,
   "id": "c4cea0f4",
   "metadata": {},
   "outputs": [],
   "source": []
  },
  {
   "cell_type": "markdown",
   "id": "e09c5d77",
   "metadata": {},
   "source": [
    "Q4: Scrape data of first 100 sunglasses listings on flipkart.com. You have to scrape four attributes:\n",
    "1. Brand\n",
    "2. ProductDescription\n",
    "3. Price\n",
    "The attributes which you have to scrape is ticked marked in the below image"
   ]
  },
  {
   "cell_type": "code",
   "execution_count": 9,
   "id": "5b46cfe9",
   "metadata": {},
   "outputs": [],
   "source": [
    "import selenium\n",
    "import pandas as pd\n",
    "from selenium import webdriver\n",
    "from selenium.webdriver.common.by import By\n",
    "from selenium.webdriver.common.keys import Keys\n",
    "import warnings\n",
    "warnings.filterwarnings(\"ignore\")\n",
    "import time\n"
   ]
  },
  {
   "cell_type": "code",
   "execution_count": 10,
   "id": "585d30c9",
   "metadata": {},
   "outputs": [],
   "source": [
    "driver = webdriver.Chrome()"
   ]
  },
  {
   "cell_type": "code",
   "execution_count": 11,
   "id": "449aec61",
   "metadata": {},
   "outputs": [],
   "source": [
    "#first get the webpage\n",
    "\n",
    "driver.get(\"https://www.flipkart.com/\")"
   ]
  },
  {
   "cell_type": "code",
   "execution_count": 12,
   "id": "278506e6",
   "metadata": {},
   "outputs": [],
   "source": [
    "#remove the pop up page\n",
    "pop_up_page =driver.find_element(By.XPATH,'/html/body/div[2]/div/div/button')\n",
    "pop_up_page.click()"
   ]
  },
  {
   "cell_type": "code",
   "execution_count": 16,
   "id": "b0737aa2",
   "metadata": {},
   "outputs": [],
   "source": [
    "search_product = driver.find_element(By.CLASS_NAME,'_3704LK')\n",
    "search_product.send_keys('sunglasses')\n"
   ]
  },
  {
   "cell_type": "code",
   "execution_count": 17,
   "id": "22d7a873",
   "metadata": {},
   "outputs": [],
   "source": [
    "#click on the search buttone\n",
    "\n",
    "search_button =driver.find_element(By.XPATH,'/html/body/div[1]/div/div[1]/div[1]/div[2]/div[2]/form/div/div/input')\n",
    "search_button.click()\n",
    "time.sleep(5)"
   ]
  },
  {
   "cell_type": "code",
   "execution_count": 14,
   "id": "cd67877e",
   "metadata": {},
   "outputs": [],
   "source": [
    "Brand = []\n",
    "Product_Description = []\n",
    "Price= []\n",
    "offer = []"
   ]
  },
  {
   "cell_type": "code",
   "execution_count": 18,
   "id": "20b76dfe",
   "metadata": {},
   "outputs": [],
   "source": [
    "Brand = []\n",
    "for i in driver.find_elements(By.XPATH,'//div[@class=\"_2WkVRV\"]'):\n",
    "    Brand.append(i.text)"
   ]
  },
  {
   "cell_type": "code",
   "execution_count": 19,
   "id": "2e886bbf",
   "metadata": {},
   "outputs": [],
   "source": [
    "Product_Description = []\n",
    "for i in driver.find_elements(By.CLASS_NAME,'IRpwTa'):\n",
    "    Product_Description.append(i.text)"
   ]
  },
  {
   "cell_type": "code",
   "execution_count": 20,
   "id": "3f4e768c",
   "metadata": {},
   "outputs": [],
   "source": [
    "Price = []\n",
    "for i in driver.find_elements(By.CLASS_NAME,'_30jeq3'):\n",
    "    Price.append(i.text)"
   ]
  },
  {
   "cell_type": "code",
   "execution_count": 21,
   "id": "25bfaf2d",
   "metadata": {},
   "outputs": [],
   "source": [
    "offer = []\n",
    "for i in driver.find_elements(By.CLASS_NAME,'_3Ay6Sb'):\n",
    "    offer.append(i.text)"
   ]
  },
  {
   "cell_type": "code",
   "execution_count": 24,
   "id": "3d19fa46",
   "metadata": {},
   "outputs": [
    {
     "name": "stdout",
     "output_type": "stream",
     "text": [
      "40 40 45 45\n"
     ]
    }
   ],
   "source": [
    "print(len(Brand),len(Product_Description),len(Price),len(offer))"
   ]
  },
  {
   "cell_type": "code",
   "execution_count": 25,
   "id": "64b915ae",
   "metadata": {},
   "outputs": [],
   "source": [
    "next = driver.find_element(By.XPATH,'/html/body/div[1]/div/div[3]/div[1]/div[2]/div[12]/div/div/nav/a[11]')\n",
    "next.click()"
   ]
  },
  {
   "cell_type": "code",
   "execution_count": 26,
   "id": "27badaa3",
   "metadata": {},
   "outputs": [],
   "source": [
    "for i in driver.find_elements(By.XPATH,'//div[@class=\"_2WkVRV\"]'):\n",
    "    Brand.append(i.text)"
   ]
  },
  {
   "cell_type": "code",
   "execution_count": 27,
   "id": "63eff19d",
   "metadata": {},
   "outputs": [],
   "source": [
    "for i in driver.find_elements(By.CLASS_NAME,'IRpwTa'):\n",
    "    Product_Description.append(i.text)"
   ]
  },
  {
   "cell_type": "code",
   "execution_count": 28,
   "id": "b418fc97",
   "metadata": {},
   "outputs": [],
   "source": [
    "for i in driver.find_elements(By.CLASS_NAME,'_30jeq3'):\n",
    "    Price.append(i.text)"
   ]
  },
  {
   "cell_type": "code",
   "execution_count": 29,
   "id": "ac4e63be",
   "metadata": {},
   "outputs": [],
   "source": [
    "for i in driver.find_elements(By.CLASS_NAME,'_3Ay6Sb'):\n",
    "    offer.append(i.text)"
   ]
  },
  {
   "cell_type": "code",
   "execution_count": 30,
   "id": "13dbbcfd",
   "metadata": {},
   "outputs": [
    {
     "name": "stdout",
     "output_type": "stream",
     "text": [
      "80 80 90 90\n"
     ]
    }
   ],
   "source": [
    "print(len(Brand),len(Product_Description),len(Price),len(offer))"
   ]
  },
  {
   "cell_type": "code",
   "execution_count": 31,
   "id": "4c723d33",
   "metadata": {},
   "outputs": [],
   "source": [
    "#Do next untill you get 100 results \n",
    "nex = driver.find_element(By.XPATH,'/html/body/div[1]/div/div[3]/div[1]/div[2]/div[12]/div/div/nav/a[12]')\n",
    "nex.click()\n"
   ]
  },
  {
   "cell_type": "code",
   "execution_count": 32,
   "id": "2f6edc6f",
   "metadata": {},
   "outputs": [],
   "source": [
    "for i in driver.find_elements(By.XPATH,'//div[@class=\"_2WkVRV\"]'):\n",
    "    Brand.append(i.text)"
   ]
  },
  {
   "cell_type": "code",
   "execution_count": 33,
   "id": "151cec79",
   "metadata": {},
   "outputs": [],
   "source": [
    "for i in driver.find_elements(By.CLASS_NAME,'IRpwTa'):\n",
    "    Product_Description.append(i.text)"
   ]
  },
  {
   "cell_type": "code",
   "execution_count": 34,
   "id": "e871df6f",
   "metadata": {},
   "outputs": [],
   "source": [
    "for i in driver.find_elements(By.CLASS_NAME,'_30jeq3'):\n",
    "    Price.append(i.text)"
   ]
  },
  {
   "cell_type": "code",
   "execution_count": 35,
   "id": "5941bc8f",
   "metadata": {},
   "outputs": [],
   "source": [
    "for i in driver.find_elements(By.CLASS_NAME,'_3Ay6Sb'):\n",
    "    offer.append(i.text)"
   ]
  },
  {
   "cell_type": "code",
   "execution_count": 36,
   "id": "eb3c45db",
   "metadata": {},
   "outputs": [
    {
     "name": "stdout",
     "output_type": "stream",
     "text": [
      "120 120 135 135\n"
     ]
    }
   ],
   "source": [
    "print(len(Brand),len(Product_Description),len(Price),len(offer))"
   ]
  },
  {
   "cell_type": "code",
   "execution_count": 41,
   "id": "c7535928",
   "metadata": {},
   "outputs": [],
   "source": [
    "import pandas as pd"
   ]
  },
  {
   "cell_type": "code",
   "execution_count": 42,
   "id": "f8d15899",
   "metadata": {},
   "outputs": [],
   "source": [
    "#creating a DataFrame\n",
    "\n",
    "df = pd.DataFrame({'Brand Name':Brand[0:100], \"Product Decription\":Product_Description[0:100], 'Price':Price[0:100], 'Offer':offer[0:100]})"
   ]
  },
  {
   "cell_type": "code",
   "execution_count": 43,
   "id": "4120e94c",
   "metadata": {},
   "outputs": [
    {
     "data": {
      "text/html": [
       "<div>\n",
       "<style scoped>\n",
       "    .dataframe tbody tr th:only-of-type {\n",
       "        vertical-align: middle;\n",
       "    }\n",
       "\n",
       "    .dataframe tbody tr th {\n",
       "        vertical-align: top;\n",
       "    }\n",
       "\n",
       "    .dataframe thead th {\n",
       "        text-align: right;\n",
       "    }\n",
       "</style>\n",
       "<table border=\"1\" class=\"dataframe\">\n",
       "  <thead>\n",
       "    <tr style=\"text-align: right;\">\n",
       "      <th></th>\n",
       "      <th>Brand Name</th>\n",
       "      <th>Product Decription</th>\n",
       "      <th>Price</th>\n",
       "      <th>Offer</th>\n",
       "    </tr>\n",
       "  </thead>\n",
       "  <tbody>\n",
       "    <tr>\n",
       "      <th>0</th>\n",
       "      <td>VINCENT CHASE</td>\n",
       "      <td>Polarized, UV Protection Round Sunglasses (51)</td>\n",
       "      <td>₹949</td>\n",
       "      <td>52% off</td>\n",
       "    </tr>\n",
       "    <tr>\n",
       "      <th>1</th>\n",
       "      <td>RED MONK</td>\n",
       "      <td>UV Protection Round Sunglasses (90)</td>\n",
       "      <td>₹370</td>\n",
       "      <td>62% off</td>\n",
       "    </tr>\n",
       "    <tr>\n",
       "      <th>2</th>\n",
       "      <td>Elligator</td>\n",
       "      <td>UV Protection Cat-eye, Retro Square, Oval, Rou...</td>\n",
       "      <td>₹168</td>\n",
       "      <td>71% off</td>\n",
       "    </tr>\n",
       "    <tr>\n",
       "      <th>3</th>\n",
       "      <td>SDEEP</td>\n",
       "      <td>UV Protection, Others Spectacle Sunglasses (Fr...</td>\n",
       "      <td>₹185</td>\n",
       "      <td>80% off</td>\n",
       "    </tr>\n",
       "    <tr>\n",
       "      <th>4</th>\n",
       "      <td>SRPM</td>\n",
       "      <td>UV Protection Wayfarer Sunglasses (50)</td>\n",
       "      <td>₹194</td>\n",
       "      <td>85% off</td>\n",
       "    </tr>\n",
       "    <tr>\n",
       "      <th>...</th>\n",
       "      <td>...</td>\n",
       "      <td>...</td>\n",
       "      <td>...</td>\n",
       "      <td>...</td>\n",
       "    </tr>\n",
       "    <tr>\n",
       "      <th>95</th>\n",
       "      <td>New Specs</td>\n",
       "      <td>UV Protection Oval Sunglasses (Free Size)</td>\n",
       "      <td>₹579</td>\n",
       "      <td>35% off</td>\n",
       "    </tr>\n",
       "    <tr>\n",
       "      <th>96</th>\n",
       "      <td>ROYAL SON</td>\n",
       "      <td>UV Protection Rectangular, Retro Square Sungla...</td>\n",
       "      <td>₹693</td>\n",
       "      <td>65% off</td>\n",
       "    </tr>\n",
       "    <tr>\n",
       "      <th>97</th>\n",
       "      <td>Eyewearlabs</td>\n",
       "      <td>Polarized, UV Protection Retro Square Sunglass...</td>\n",
       "      <td>₹1,799</td>\n",
       "      <td>50% off</td>\n",
       "    </tr>\n",
       "    <tr>\n",
       "      <th>98</th>\n",
       "      <td>Cool enter</td>\n",
       "      <td>UV Protection Spectacle Sunglasses (15)</td>\n",
       "      <td>₹239</td>\n",
       "      <td>85% off</td>\n",
       "    </tr>\n",
       "    <tr>\n",
       "      <th>99</th>\n",
       "      <td>ROZZETTA CRAFT</td>\n",
       "      <td>UV Protection, Gradient Butterfly, Shield Sung...</td>\n",
       "      <td>₹249</td>\n",
       "      <td>64% off</td>\n",
       "    </tr>\n",
       "  </tbody>\n",
       "</table>\n",
       "<p>100 rows × 4 columns</p>\n",
       "</div>"
      ],
      "text/plain": [
       "        Brand Name                                 Product Decription   Price  \\\n",
       "0    VINCENT CHASE     Polarized, UV Protection Round Sunglasses (51)    ₹949   \n",
       "1         RED MONK                UV Protection Round Sunglasses (90)    ₹370   \n",
       "2        Elligator  UV Protection Cat-eye, Retro Square, Oval, Rou...    ₹168   \n",
       "3            SDEEP  UV Protection, Others Spectacle Sunglasses (Fr...    ₹185   \n",
       "4             SRPM             UV Protection Wayfarer Sunglasses (50)    ₹194   \n",
       "..             ...                                                ...     ...   \n",
       "95       New Specs          UV Protection Oval Sunglasses (Free Size)    ₹579   \n",
       "96       ROYAL SON  UV Protection Rectangular, Retro Square Sungla...    ₹693   \n",
       "97     Eyewearlabs  Polarized, UV Protection Retro Square Sunglass...  ₹1,799   \n",
       "98      Cool enter            UV Protection Spectacle Sunglasses (15)    ₹239   \n",
       "99  ROZZETTA CRAFT  UV Protection, Gradient Butterfly, Shield Sung...    ₹249   \n",
       "\n",
       "      Offer  \n",
       "0   52% off  \n",
       "1   62% off  \n",
       "2   71% off  \n",
       "3   80% off  \n",
       "4   85% off  \n",
       "..      ...  \n",
       "95  35% off  \n",
       "96  65% off  \n",
       "97  50% off  \n",
       "98  85% off  \n",
       "99  64% off  \n",
       "\n",
       "[100 rows x 4 columns]"
      ]
     },
     "execution_count": 43,
     "metadata": {},
     "output_type": "execute_result"
    }
   ],
   "source": [
    "df"
   ]
  },
  {
   "cell_type": "markdown",
   "id": "acb16bdc",
   "metadata": {},
   "source": [
    "Q5: Scrape 100 reviews data from flipkart.com for iphone11 phone. You have to go the link:\n",
    "https://www.flipkart.com/apple-iphone-11-black-64-gb/productreviews/itm4e5041ba101fd?pid=MOBFWQ6BXGJCEYNY&lid=LSTMOBFWQ6BXGJCEYNYZXSHRJ&market\n",
    "place=FLIPKART"
   ]
  },
  {
   "cell_type": "code",
   "execution_count": 44,
   "id": "cd23334d",
   "metadata": {},
   "outputs": [],
   "source": [
    "import selenium\n",
    "from selenium import webdriver\n",
    "from selenium.webdriver.common.by import By\n",
    "from selenium.webdriver.common.keys import Keys\n",
    "import warnings\n",
    "warnings.filterwarnings(\"ignore\")\n",
    "import time\n"
   ]
  },
  {
   "cell_type": "code",
   "execution_count": 45,
   "id": "5d97d940",
   "metadata": {},
   "outputs": [],
   "source": [
    "driver = webdriver.Chrome()"
   ]
  },
  {
   "cell_type": "code",
   "execution_count": 46,
   "id": "a042be1a",
   "metadata": {},
   "outputs": [],
   "source": [
    "#first get the webpage\n",
    "\n",
    "driver.get(\"https://www.flipkart.com/apple-iphone-11-black-64-gb/product-reviews/itm4e5041ba101fd?pid=MOBFWQ6BXGJCEYNY&lid=LSTMOBFWQ6BXGJCEYNYZXSHRJ&market\")"
   ]
  },
  {
   "cell_type": "code",
   "execution_count": 52,
   "id": "7ce27bfd",
   "metadata": {},
   "outputs": [],
   "source": [
    "Ratings =[]\n",
    "Review_Summary =[]\n",
    "Full_review =[]"
   ]
  },
  {
   "cell_type": "code",
   "execution_count": 53,
   "id": "60e0d373",
   "metadata": {},
   "outputs": [],
   "source": [
    "for page in range(0,10):\n",
    "    for i in driver.find_elements(By.XPATH,'//div[@class=\"_3LWZlK _1BLPMq\"]'):\n",
    "        Ratings.append(i.text)"
   ]
  },
  {
   "cell_type": "code",
   "execution_count": 59,
   "id": "b6f33038",
   "metadata": {},
   "outputs": [],
   "source": [
    "for page in range(0,10):\n",
    "    for i in driver.find_elements(By.XPATH,'//p[@class=\"_2-N8zT\"]'):\n",
    "        Review_Summary.append(i.text)"
   ]
  },
  {
   "cell_type": "code",
   "execution_count": 60,
   "id": "665d115b",
   "metadata": {},
   "outputs": [],
   "source": [
    "for page in range(0,10):\n",
    "    for i in driver.find_elements(By.XPATH,'//div[@class=\"t-ZTKy\"]'):\n",
    "        Full_review.append(i.text)"
   ]
  },
  {
   "cell_type": "code",
   "execution_count": 61,
   "id": "05ed54b0",
   "metadata": {},
   "outputs": [
    {
     "name": "stdout",
     "output_type": "stream",
     "text": [
      "100 110 120\n"
     ]
    }
   ],
   "source": [
    "print(len(Ratings),len(Review_Summary),len(Full_review))"
   ]
  },
  {
   "cell_type": "code",
   "execution_count": null,
   "id": "ddf549d9",
   "metadata": {},
   "outputs": [],
   "source": [
    "phone = pd.DataFrame({'Star':star, 'Comments':comm, 'Brief':bri})"
   ]
  },
  {
   "cell_type": "code",
   "execution_count": 65,
   "id": "fd5f98ae",
   "metadata": {},
   "outputs": [],
   "source": [
    "import pandas as pd"
   ]
  },
  {
   "cell_type": "code",
   "execution_count": 67,
   "id": "c4fdb5e8",
   "metadata": {},
   "outputs": [],
   "source": [
    "reviews = pd.DataFrame({'Ratings':Ratings[0:100],'Review Summary':Review_Summary[0:100],'Full Review':Full_review[0:100]})"
   ]
  },
  {
   "cell_type": "code",
   "execution_count": 68,
   "id": "8a05fa53",
   "metadata": {},
   "outputs": [
    {
     "data": {
      "text/html": [
       "<div>\n",
       "<style scoped>\n",
       "    .dataframe tbody tr th:only-of-type {\n",
       "        vertical-align: middle;\n",
       "    }\n",
       "\n",
       "    .dataframe tbody tr th {\n",
       "        vertical-align: top;\n",
       "    }\n",
       "\n",
       "    .dataframe thead th {\n",
       "        text-align: right;\n",
       "    }\n",
       "</style>\n",
       "<table border=\"1\" class=\"dataframe\">\n",
       "  <thead>\n",
       "    <tr style=\"text-align: right;\">\n",
       "      <th></th>\n",
       "      <th>Ratings</th>\n",
       "      <th>Review Summary</th>\n",
       "      <th>Full Review</th>\n",
       "    </tr>\n",
       "  </thead>\n",
       "  <tbody>\n",
       "    <tr>\n",
       "      <th>0</th>\n",
       "      <td>5</td>\n",
       "      <td>Terrific</td>\n",
       "      <td>Very very good</td>\n",
       "    </tr>\n",
       "    <tr>\n",
       "      <th>1</th>\n",
       "      <td>5</td>\n",
       "      <td>Classy product</td>\n",
       "      <td>Camera is awesome\\nBest battery backup\\nA perf...</td>\n",
       "    </tr>\n",
       "    <tr>\n",
       "      <th>2</th>\n",
       "      <td>5</td>\n",
       "      <td>Brilliant</td>\n",
       "      <td>Excellent Phone.</td>\n",
       "    </tr>\n",
       "    <tr>\n",
       "      <th>3</th>\n",
       "      <td>5</td>\n",
       "      <td>Wonderful</td>\n",
       "      <td>This is amazing at all</td>\n",
       "    </tr>\n",
       "    <tr>\n",
       "      <th>4</th>\n",
       "      <td>5</td>\n",
       "      <td>Must buy!</td>\n",
       "      <td>It’s really awesome</td>\n",
       "    </tr>\n",
       "    <tr>\n",
       "      <th>...</th>\n",
       "      <td>...</td>\n",
       "      <td>...</td>\n",
       "      <td>...</td>\n",
       "    </tr>\n",
       "    <tr>\n",
       "      <th>95</th>\n",
       "      <td>5</td>\n",
       "      <td>Just wow!</td>\n",
       "      <td>Perfect Product!!</td>\n",
       "    </tr>\n",
       "    <tr>\n",
       "      <th>96</th>\n",
       "      <td>5</td>\n",
       "      <td>Perfect product!</td>\n",
       "      <td>V Good all</td>\n",
       "    </tr>\n",
       "    <tr>\n",
       "      <th>97</th>\n",
       "      <td>5</td>\n",
       "      <td>Mind-blowing purchase</td>\n",
       "      <td>Photos super</td>\n",
       "    </tr>\n",
       "    <tr>\n",
       "      <th>98</th>\n",
       "      <td>5</td>\n",
       "      <td>Fabulous!</td>\n",
       "      <td>Super🔥 and good performance 👌❤️</td>\n",
       "    </tr>\n",
       "    <tr>\n",
       "      <th>99</th>\n",
       "      <td>5</td>\n",
       "      <td>Best in the market!</td>\n",
       "      <td>Good Camera</td>\n",
       "    </tr>\n",
       "  </tbody>\n",
       "</table>\n",
       "<p>100 rows × 3 columns</p>\n",
       "</div>"
      ],
      "text/plain": [
       "   Ratings         Review Summary  \\\n",
       "0        5               Terrific   \n",
       "1        5         Classy product   \n",
       "2        5              Brilliant   \n",
       "3        5              Wonderful   \n",
       "4        5              Must buy!   \n",
       "..     ...                    ...   \n",
       "95       5              Just wow!   \n",
       "96       5       Perfect product!   \n",
       "97       5  Mind-blowing purchase   \n",
       "98       5              Fabulous!   \n",
       "99       5    Best in the market!   \n",
       "\n",
       "                                          Full Review  \n",
       "0                                      Very very good  \n",
       "1   Camera is awesome\\nBest battery backup\\nA perf...  \n",
       "2                                    Excellent Phone.  \n",
       "3                              This is amazing at all  \n",
       "4                                 It’s really awesome  \n",
       "..                                                ...  \n",
       "95                                  Perfect Product!!  \n",
       "96                                         V Good all  \n",
       "97                                       Photos super  \n",
       "98                    Super🔥 and good performance 👌❤️  \n",
       "99                                        Good Camera  \n",
       "\n",
       "[100 rows x 3 columns]"
      ]
     },
     "execution_count": 68,
     "metadata": {},
     "output_type": "execute_result"
    }
   ],
   "source": [
    "reviews"
   ]
  },
  {
   "cell_type": "markdown",
   "id": "e3ab41b2",
   "metadata": {},
   "source": [
    "Q6: Scrape data forfirst 100 sneakers you find when you visit flipkart.com and search for “sneakers” in the\n",
    "search field.\n",
    "You have to scrape 3 attributes of each sneaker:\n",
    "1. Brand\n",
    "2. ProductDescription\n",
    "3. Price\n",
    "As shown in the below image, you have to scrape the above attributes."
   ]
  },
  {
   "cell_type": "code",
   "execution_count": 3,
   "id": "ebd84a4e",
   "metadata": {},
   "outputs": [],
   "source": [
    "import selenium\n",
    "from selenium import webdriver\n",
    "from selenium.webdriver.common.by import By\n",
    "from selenium.webdriver.common.keys import Keys\n",
    "import warnings\n",
    "warnings.filterwarnings(\"ignore\")\n",
    "import time\n"
   ]
  },
  {
   "cell_type": "code",
   "execution_count": 4,
   "id": "911136fc",
   "metadata": {},
   "outputs": [],
   "source": [
    "driver = webdriver.Chrome()"
   ]
  },
  {
   "cell_type": "code",
   "execution_count": 5,
   "id": "742ae8db",
   "metadata": {},
   "outputs": [],
   "source": [
    "#first get url\n",
    "driver.get(\"https://www.flipkart.com/\")"
   ]
  },
  {
   "cell_type": "code",
   "execution_count": 6,
   "id": "e61ed87d",
   "metadata": {},
   "outputs": [],
   "source": [
    "#remove the pop up page\n",
    "pop_up_page =driver.find_element(By.XPATH,'/html/body/div[2]/div/div/button')\n",
    "pop_up_page.click()"
   ]
  },
  {
   "cell_type": "code",
   "execution_count": 7,
   "id": "8c6ec8ff",
   "metadata": {},
   "outputs": [],
   "source": [
    "search_product = driver.find_element(By.CLASS_NAME,\"_3704LK\")\n",
    "search_product.send_keys('sneakers')\n"
   ]
  },
  {
   "cell_type": "code",
   "execution_count": 8,
   "id": "712a6d8e",
   "metadata": {},
   "outputs": [],
   "source": [
    "#click on the search buttone\n",
    "\n",
    "search_button =driver.find_element(By.XPATH,'/html/body/div[1]/div/div[1]/div[1]/div[2]/div[2]/form/div/div/input')\n",
    "search_button.click()\n",
    "time.sleep(5)"
   ]
  },
  {
   "cell_type": "code",
   "execution_count": 9,
   "id": "dd5c7b87",
   "metadata": {},
   "outputs": [],
   "source": [
    "Brand = []\n",
    "Product_Description = []\n",
    "Price= []\n"
   ]
  },
  {
   "cell_type": "code",
   "execution_count": 19,
   "id": "f9b976c8",
   "metadata": {},
   "outputs": [],
   "source": [
    "Brand = []\n",
    "for i in driver.find_elements(By.XPATH,'//div[@class=\"_2WkVRV\"]'):\n",
    "    Brand.append(i.text)"
   ]
  },
  {
   "cell_type": "code",
   "execution_count": 20,
   "id": "61a8a72b",
   "metadata": {},
   "outputs": [],
   "source": [
    "Product_Description = []\n",
    "for i in driver.find_elements(By.XPATH,'//a[@class=\"IRpwTa\"]'):\n",
    "    Product_Description.append(i.text)"
   ]
  },
  {
   "cell_type": "code",
   "execution_count": 21,
   "id": "e433056a",
   "metadata": {},
   "outputs": [],
   "source": [
    "Price = []\n",
    "for i in driver.find_elements(By.XPATH,'//div[@class=\"_30jeq3\"]'):\n",
    "    Price.append(i.text)"
   ]
  },
  {
   "cell_type": "code",
   "execution_count": 22,
   "id": "6cb3b56b",
   "metadata": {},
   "outputs": [
    {
     "name": "stdout",
     "output_type": "stream",
     "text": [
      "40 39 40\n"
     ]
    }
   ],
   "source": [
    "print(len(Brand),len(Product_Description),len(Price))"
   ]
  },
  {
   "cell_type": "code",
   "execution_count": 23,
   "id": "bf4b25da",
   "metadata": {},
   "outputs": [],
   "source": [
    "next = driver.find_element(By.XPATH,'/html/body/div/div/div[3]/div[1]/div[2]/div[12]/div/div/nav/a[11]')\n",
    "next.click()"
   ]
  },
  {
   "cell_type": "code",
   "execution_count": 24,
   "id": "1ea70bbf",
   "metadata": {},
   "outputs": [],
   "source": [
    "for i in driver.find_elements(By.XPATH,'//div[@class=\"_2WkVRV\"]'):\n",
    "    Brand.append(i.text)"
   ]
  },
  {
   "cell_type": "code",
   "execution_count": 25,
   "id": "af38ed20",
   "metadata": {},
   "outputs": [],
   "source": [
    "for i in driver.find_elements(By.XPATH,'//a[@class=\"IRpwTa\"]'):\n",
    "    Product_Description.append(i.text)"
   ]
  },
  {
   "cell_type": "code",
   "execution_count": 26,
   "id": "6c914167",
   "metadata": {},
   "outputs": [],
   "source": [
    "for i in driver.find_elements(By.CLASS_NAME,'_30jeq3'):\n",
    "    Price.append(i.text)"
   ]
  },
  {
   "cell_type": "code",
   "execution_count": 27,
   "id": "098836ec",
   "metadata": {},
   "outputs": [
    {
     "name": "stdout",
     "output_type": "stream",
     "text": [
      "80 77 85\n"
     ]
    }
   ],
   "source": [
    "print(len(Brand),len(Product_Description),len(Price))"
   ]
  },
  {
   "cell_type": "code",
   "execution_count": 28,
   "id": "758d3d42",
   "metadata": {},
   "outputs": [],
   "source": [
    "#Do next untill you get 100 results \n",
    "nex = driver.find_element(By.XPATH,'/html/body/div[1]/div/div[3]/div[1]/div[2]/div[12]/div/div/nav/a[12]')\n",
    "nex.click()"
   ]
  },
  {
   "cell_type": "code",
   "execution_count": 29,
   "id": "ad3aebc9",
   "metadata": {},
   "outputs": [],
   "source": [
    "for i in driver.find_elements(By.XPATH,'//div[@class=\"_2WkVRV\"]'):\n",
    "    Brand.append(i.text)"
   ]
  },
  {
   "cell_type": "code",
   "execution_count": 30,
   "id": "b1a9e9a1",
   "metadata": {},
   "outputs": [],
   "source": [
    "for i in driver.find_elements(By.XPATH,'//a[@class=\"IRpwTa\"]'):\n",
    "    Product_Description.append(i.text)"
   ]
  },
  {
   "cell_type": "code",
   "execution_count": 31,
   "id": "66add562",
   "metadata": {},
   "outputs": [],
   "source": [
    "for i in driver.find_elements(By.CLASS_NAME,'_30jeq3'):\n",
    "    Price.append(i.text)"
   ]
  },
  {
   "cell_type": "code",
   "execution_count": 32,
   "id": "f1f0128b",
   "metadata": {},
   "outputs": [
    {
     "name": "stdout",
     "output_type": "stream",
     "text": [
      "120 113 130\n"
     ]
    }
   ],
   "source": [
    "print(len(Brand),len(Product_Description),len(Price))"
   ]
  },
  {
   "cell_type": "code",
   "execution_count": 33,
   "id": "a420a333",
   "metadata": {},
   "outputs": [],
   "source": [
    "import pandas as pd"
   ]
  },
  {
   "cell_type": "code",
   "execution_count": 34,
   "id": "31cf2c00",
   "metadata": {},
   "outputs": [],
   "source": [
    "sneakers = pd.DataFrame({'Brand Name':Brand[0:100], \"Product Decription\":Product_Description[0:100], 'Price':Price[0:100]})"
   ]
  },
  {
   "cell_type": "code",
   "execution_count": 35,
   "id": "dee0d03d",
   "metadata": {},
   "outputs": [
    {
     "data": {
      "text/html": [
       "<div>\n",
       "<style scoped>\n",
       "    .dataframe tbody tr th:only-of-type {\n",
       "        vertical-align: middle;\n",
       "    }\n",
       "\n",
       "    .dataframe tbody tr th {\n",
       "        vertical-align: top;\n",
       "    }\n",
       "\n",
       "    .dataframe thead th {\n",
       "        text-align: right;\n",
       "    }\n",
       "</style>\n",
       "<table border=\"1\" class=\"dataframe\">\n",
       "  <thead>\n",
       "    <tr style=\"text-align: right;\">\n",
       "      <th></th>\n",
       "      <th>Brand Name</th>\n",
       "      <th>Product Decription</th>\n",
       "      <th>Price</th>\n",
       "    </tr>\n",
       "  </thead>\n",
       "  <tbody>\n",
       "    <tr>\n",
       "      <th>0</th>\n",
       "      <td>lejano</td>\n",
       "      <td>Sneakers For Men</td>\n",
       "      <td>₹429</td>\n",
       "    </tr>\n",
       "    <tr>\n",
       "      <th>1</th>\n",
       "      <td>BIRDE</td>\n",
       "      <td>Premium Sports Shoes For Men Pack Of 2 Sneaker...</td>\n",
       "      <td>₹479</td>\n",
       "    </tr>\n",
       "    <tr>\n",
       "      <th>2</th>\n",
       "      <td>BRUTON</td>\n",
       "      <td>Modern Trendy Shoes Sneakers For Men</td>\n",
       "      <td>₹349</td>\n",
       "    </tr>\n",
       "    <tr>\n",
       "      <th>3</th>\n",
       "      <td>aadi</td>\n",
       "      <td>Lightweight,Comfort,Summer,Trendy,Walking,Outd...</td>\n",
       "      <td>₹479</td>\n",
       "    </tr>\n",
       "    <tr>\n",
       "      <th>4</th>\n",
       "      <td>Kraasa</td>\n",
       "      <td>Sneakers For Women</td>\n",
       "      <td>₹399</td>\n",
       "    </tr>\n",
       "    <tr>\n",
       "      <th>...</th>\n",
       "      <td>...</td>\n",
       "      <td>...</td>\n",
       "      <td>...</td>\n",
       "    </tr>\n",
       "    <tr>\n",
       "      <th>95</th>\n",
       "      <td>HOTSTYLE</td>\n",
       "      <td>Latest Exclusive Affordable Collection of Tren...</td>\n",
       "      <td>₹4,269</td>\n",
       "    </tr>\n",
       "    <tr>\n",
       "      <th>96</th>\n",
       "      <td>U.S. POLO ASSN.</td>\n",
       "      <td>CLUB CULTURE Sneakers For Men</td>\n",
       "      <td>₹1,799</td>\n",
       "    </tr>\n",
       "    <tr>\n",
       "      <th>97</th>\n",
       "      <td>HIGHLANDER</td>\n",
       "      <td>Hustle V2 Sneakers For Men</td>\n",
       "      <td>₹499</td>\n",
       "    </tr>\n",
       "    <tr>\n",
       "      <th>98</th>\n",
       "      <td>BIRDE</td>\n",
       "      <td>Lightweight,Comfort,Summer,Trendy,Walking,Outd...</td>\n",
       "      <td>₹399</td>\n",
       "    </tr>\n",
       "    <tr>\n",
       "      <th>99</th>\n",
       "      <td>HOTSTYLE</td>\n",
       "      <td>Smash V2 Buck Sneakers For Men</td>\n",
       "      <td>₹549</td>\n",
       "    </tr>\n",
       "  </tbody>\n",
       "</table>\n",
       "<p>100 rows × 3 columns</p>\n",
       "</div>"
      ],
      "text/plain": [
       "         Brand Name                                 Product Decription   Price\n",
       "0            lejano                                   Sneakers For Men    ₹429\n",
       "1             BIRDE  Premium Sports Shoes For Men Pack Of 2 Sneaker...    ₹479\n",
       "2            BRUTON               Modern Trendy Shoes Sneakers For Men    ₹349\n",
       "3              aadi  Lightweight,Comfort,Summer,Trendy,Walking,Outd...    ₹479\n",
       "4            Kraasa                                 Sneakers For Women    ₹399\n",
       "..              ...                                                ...     ...\n",
       "95         HOTSTYLE  Latest Exclusive Affordable Collection of Tren...  ₹4,269\n",
       "96  U.S. POLO ASSN.                      CLUB CULTURE Sneakers For Men  ₹1,799\n",
       "97       HIGHLANDER                         Hustle V2 Sneakers For Men    ₹499\n",
       "98            BIRDE  Lightweight,Comfort,Summer,Trendy,Walking,Outd...    ₹399\n",
       "99         HOTSTYLE                     Smash V2 Buck Sneakers For Men    ₹549\n",
       "\n",
       "[100 rows x 3 columns]"
      ]
     },
     "execution_count": 35,
     "metadata": {},
     "output_type": "execute_result"
    }
   ],
   "source": [
    "sneakers"
   ]
  },
  {
   "cell_type": "markdown",
   "id": "f8ab463e",
   "metadata": {},
   "source": [
    "Q7: Go to webpage https://www.amazon.in/ Enter “Laptop” in the search field and then click the search icon. Then\n",
    "set CPU Type filter to “Intel Core i7” as shown in the below image:\n"
   ]
  },
  {
   "cell_type": "code",
   "execution_count": 36,
   "id": "329f9835",
   "metadata": {},
   "outputs": [],
   "source": [
    "import selenium\n",
    "from selenium import webdriver\n",
    "from selenium.webdriver.common.by import By\n",
    "from selenium.webdriver.common.keys import Keys\n",
    "import warnings\n",
    "warnings.filterwarnings(\"ignore\")\n",
    "import time\n"
   ]
  },
  {
   "cell_type": "code",
   "execution_count": 37,
   "id": "8d3e6374",
   "metadata": {},
   "outputs": [],
   "source": [
    "driver = webdriver.Chrome()"
   ]
  },
  {
   "cell_type": "code",
   "execution_count": 38,
   "id": "2906b5ea",
   "metadata": {},
   "outputs": [],
   "source": [
    "driver.get('https://www.amazon.in/')"
   ]
  },
  {
   "cell_type": "code",
   "execution_count": 41,
   "id": "68390a58",
   "metadata": {},
   "outputs": [],
   "source": [
    "search_product = driver.find_element(By.XPATH,'/html/body/div[1]/header/div/div[1]/div[2]/div/form/div[2]/div[1]/input')\n",
    "search_product.send_keys('Laptop')\n"
   ]
  },
  {
   "cell_type": "code",
   "execution_count": 42,
   "id": "856ef3c8",
   "metadata": {},
   "outputs": [],
   "source": [
    "#click on the search button\n",
    "\n",
    "search_button =driver.find_element(By.XPATH,'/html/body/div[1]/header/div/div[1]/div[2]/div/form/div[3]/div/span/input')\n",
    "search_button.click()\n",
    "time.sleep(5)"
   ]
  },
  {
   "cell_type": "code",
   "execution_count": 43,
   "id": "152fb320",
   "metadata": {},
   "outputs": [],
   "source": [
    "core = driver.find_element(By.XPATH,'/html/body/div[1]/div[2]/div[1]/div[2]/div/div[3]/span/div[1]/div/div/div[6]/ul[7]/span[11]/li/span/a/span')\n",
    "core.click()"
   ]
  },
  {
   "cell_type": "code",
   "execution_count": 44,
   "id": "3f4132bc",
   "metadata": {},
   "outputs": [],
   "source": [
    "Title = []\n",
    "for i in driver.find_elements(By.XPATH,'//span[@class=\"a-size-medium a-color-base a-text-normal\"]'):\n",
    "    Title.append(i.text)"
   ]
  },
  {
   "cell_type": "code",
   "execution_count": 50,
   "id": "9f5e6ca3",
   "metadata": {},
   "outputs": [],
   "source": [
    "Ratings = []\n",
    "for i in driver.find_elements(By.XPATH,'//span[@class=\"a-icon-alt\"]'):\n",
    "    Ratings.append(i.text)"
   ]
  },
  {
   "cell_type": "code",
   "execution_count": 46,
   "id": "617be8bb",
   "metadata": {},
   "outputs": [],
   "source": [
    "Price = []\n",
    "for i in driver.find_elements(By.XPATH,'//span[@class=\"a-price-whole\"]'):\n",
    "    Price.append(i.text)"
   ]
  },
  {
   "cell_type": "code",
   "execution_count": 51,
   "id": "efc7a5dd",
   "metadata": {},
   "outputs": [
    {
     "name": "stdout",
     "output_type": "stream",
     "text": [
      "24 30 31\n"
     ]
    }
   ],
   "source": [
    "print(len(Title),len(Ratings),len(Price))"
   ]
  },
  {
   "cell_type": "code",
   "execution_count": 52,
   "id": "51e8f66b",
   "metadata": {},
   "outputs": [],
   "source": [
    "import pandas as pd"
   ]
  },
  {
   "cell_type": "code",
   "execution_count": 53,
   "id": "974b7b40",
   "metadata": {},
   "outputs": [],
   "source": [
    "Laptops = pd.DataFrame({'Title':Title[0:10],'Ratings':Ratings[0:10],'Price':Price[0:10]})"
   ]
  },
  {
   "cell_type": "code",
   "execution_count": 54,
   "id": "c83a7719",
   "metadata": {},
   "outputs": [
    {
     "data": {
      "text/html": [
       "<div>\n",
       "<style scoped>\n",
       "    .dataframe tbody tr th:only-of-type {\n",
       "        vertical-align: middle;\n",
       "    }\n",
       "\n",
       "    .dataframe tbody tr th {\n",
       "        vertical-align: top;\n",
       "    }\n",
       "\n",
       "    .dataframe thead th {\n",
       "        text-align: right;\n",
       "    }\n",
       "</style>\n",
       "<table border=\"1\" class=\"dataframe\">\n",
       "  <thead>\n",
       "    <tr style=\"text-align: right;\">\n",
       "      <th></th>\n",
       "      <th>Title</th>\n",
       "      <th>Ratings</th>\n",
       "      <th>Price</th>\n",
       "    </tr>\n",
       "  </thead>\n",
       "  <tbody>\n",
       "    <tr>\n",
       "      <th>0</th>\n",
       "      <td>ASUS Creator Series Vivobook 14X OLED (2023), ...</td>\n",
       "      <td></td>\n",
       "      <td>89,990</td>\n",
       "    </tr>\n",
       "    <tr>\n",
       "      <th>1</th>\n",
       "      <td>Lenovo IdeaPad Gaming 3 Intel Core i7-12700H 1...</td>\n",
       "      <td></td>\n",
       "      <td>98,500</td>\n",
       "    </tr>\n",
       "    <tr>\n",
       "      <th>2</th>\n",
       "      <td>Lenovo ThinkPad E14 Intel Core i7 12th Gen 14\"...</td>\n",
       "      <td></td>\n",
       "      <td>93,990</td>\n",
       "    </tr>\n",
       "    <tr>\n",
       "      <th>3</th>\n",
       "      <td>Lenovo [SmartChoice] IdeaPad Slim 3 Intel Core...</td>\n",
       "      <td></td>\n",
       "      <td>62,990</td>\n",
       "    </tr>\n",
       "    <tr>\n",
       "      <th>4</th>\n",
       "      <td>ASUS Vivobook 15, Intel Core i7-12650H 12th Ge...</td>\n",
       "      <td></td>\n",
       "      <td>61,990</td>\n",
       "    </tr>\n",
       "    <tr>\n",
       "      <th>5</th>\n",
       "      <td>Acer Nitro 5 AN515-58 Gaming Laptop 12th Gen I...</td>\n",
       "      <td></td>\n",
       "      <td>1,04,990</td>\n",
       "    </tr>\n",
       "    <tr>\n",
       "      <th>6</th>\n",
       "      <td>HP Pavilion 14, 11Th Gen Intel Core I7-16Gb Ra...</td>\n",
       "      <td></td>\n",
       "      <td>79,990</td>\n",
       "    </tr>\n",
       "    <tr>\n",
       "      <th>7</th>\n",
       "      <td>Dell Vostro 5630 13th Gen Laptop, Intel Core i...</td>\n",
       "      <td></td>\n",
       "      <td>90,004</td>\n",
       "    </tr>\n",
       "    <tr>\n",
       "      <th>8</th>\n",
       "      <td>Lenovo IdeaPad Slim 5 Intel Core i7 12th Gen 1...</td>\n",
       "      <td></td>\n",
       "      <td>80,990</td>\n",
       "    </tr>\n",
       "    <tr>\n",
       "      <th>9</th>\n",
       "      <td>MSI GF63 Thin, Intel Core i7-11800H, 40CM FHD ...</td>\n",
       "      <td></td>\n",
       "      <td>71,490</td>\n",
       "    </tr>\n",
       "  </tbody>\n",
       "</table>\n",
       "</div>"
      ],
      "text/plain": [
       "                                               Title Ratings     Price\n",
       "0  ASUS Creator Series Vivobook 14X OLED (2023), ...            89,990\n",
       "1  Lenovo IdeaPad Gaming 3 Intel Core i7-12700H 1...            98,500\n",
       "2  Lenovo ThinkPad E14 Intel Core i7 12th Gen 14\"...            93,990\n",
       "3  Lenovo [SmartChoice] IdeaPad Slim 3 Intel Core...            62,990\n",
       "4  ASUS Vivobook 15, Intel Core i7-12650H 12th Ge...            61,990\n",
       "5  Acer Nitro 5 AN515-58 Gaming Laptop 12th Gen I...          1,04,990\n",
       "6  HP Pavilion 14, 11Th Gen Intel Core I7-16Gb Ra...            79,990\n",
       "7  Dell Vostro 5630 13th Gen Laptop, Intel Core i...            90,004\n",
       "8  Lenovo IdeaPad Slim 5 Intel Core i7 12th Gen 1...            80,990\n",
       "9  MSI GF63 Thin, Intel Core i7-11800H, 40CM FHD ...            71,490"
      ]
     },
     "execution_count": 54,
     "metadata": {},
     "output_type": "execute_result"
    }
   ],
   "source": [
    "Laptops"
   ]
  },
  {
   "cell_type": "markdown",
   "id": "6e671cb0",
   "metadata": {},
   "source": [
    "Q8: Write a python program to scrape data for Top 1000 Quotes of All Time."
   ]
  },
  {
   "cell_type": "code",
   "execution_count": 110,
   "id": "efa2821a",
   "metadata": {},
   "outputs": [],
   "source": [
    "import selenium\n",
    "from selenium import webdriver\n",
    "from selenium.webdriver.common.by import By\n",
    "from selenium.webdriver.common.keys import Keys\n",
    "import warnings\n",
    "warnings.filterwarnings(\"ignore\")\n",
    "import time"
   ]
  },
  {
   "cell_type": "code",
   "execution_count": 111,
   "id": "2b9718fe",
   "metadata": {},
   "outputs": [],
   "source": [
    "driver = webdriver.Chrome()"
   ]
  },
  {
   "cell_type": "code",
   "execution_count": 112,
   "id": "42c7deea",
   "metadata": {},
   "outputs": [],
   "source": [
    "#first get url\n",
    "\n",
    "driver.get('https://www.azquotes.com/')"
   ]
  },
  {
   "cell_type": "code",
   "execution_count": 113,
   "id": "d85bbe97",
   "metadata": {},
   "outputs": [],
   "source": [
    "#click on Top Quotes\n",
    "\n",
    "Top_Quotes = driver.find_element(By.XPATH,'/html/body/div[1]/div[2]/div[1]/div/div[3]/ul/li[5]/a')\n",
    "Top_Quotes.click()\n"
   ]
  },
  {
   "cell_type": "code",
   "execution_count": 114,
   "id": "d5763ec0",
   "metadata": {},
   "outputs": [],
   "source": [
    "Quote = []\n",
    "for i in driver.find_elements(By.XPATH,'//a[@class=\"title\"]'):\n",
    "    Quote.append(i.text)"
   ]
  },
  {
   "cell_type": "code",
   "execution_count": 115,
   "id": "030c508d",
   "metadata": {},
   "outputs": [],
   "source": [
    "Author = []\n",
    "for i in driver.find_elements(By.XPATH,'//div[@class=\"author\"]'):\n",
    "    Author.append(i.text)"
   ]
  },
  {
   "cell_type": "code",
   "execution_count": 116,
   "id": "3e5349d2",
   "metadata": {},
   "outputs": [],
   "source": [
    "Quote_Type = []\n",
    "for i in driver.find_elements(By.XPATH,'//div[@class=\"tags\"]'):\n",
    "    Quote_Type.append(i.text)"
   ]
  },
  {
   "cell_type": "code",
   "execution_count": 117,
   "id": "63cffbd6",
   "metadata": {},
   "outputs": [
    {
     "name": "stdout",
     "output_type": "stream",
     "text": [
      "100 100 100\n"
     ]
    }
   ],
   "source": [
    "print(len(Quote),len(Author),len(Quote_Type))"
   ]
  },
  {
   "cell_type": "code",
   "execution_count": 118,
   "id": "6812f4c6",
   "metadata": {},
   "outputs": [],
   "source": [
    "next = driver.find_element(By.XPATH,'/html/body/div[1]/div[3]/div/div/div/div[1]/div/div[3]/li[12]/a')\n",
    "next.click()"
   ]
  },
  {
   "cell_type": "code",
   "execution_count": 119,
   "id": "ceaf71d6",
   "metadata": {},
   "outputs": [],
   "source": [
    "for i in driver.find_elements(By.XPATH,'//a[@class=\"title\"]'):\n",
    "    Quote.append(i.text)"
   ]
  },
  {
   "cell_type": "code",
   "execution_count": 120,
   "id": "9bd15c9d",
   "metadata": {},
   "outputs": [],
   "source": [
    "for i in driver.find_elements(By.XPATH,'//div[@class=\"author\"]'):\n",
    "    Author.append(i.text)"
   ]
  },
  {
   "cell_type": "code",
   "execution_count": 121,
   "id": "6293c8ca",
   "metadata": {},
   "outputs": [],
   "source": [
    "for i in driver.find_elements(By.XPATH,'//div[@class=\"tags\"]'):\n",
    "    Quote_Type.append(i.text)"
   ]
  },
  {
   "cell_type": "code",
   "execution_count": 122,
   "id": "4578a493",
   "metadata": {},
   "outputs": [
    {
     "name": "stdout",
     "output_type": "stream",
     "text": [
      "200 200 200\n"
     ]
    }
   ],
   "source": [
    "print(len(Quote),len(Author),len(Quote_Type))"
   ]
  },
  {
   "cell_type": "code",
   "execution_count": 123,
   "id": "4d0c272e",
   "metadata": {},
   "outputs": [],
   "source": [
    "#Do next untill you get 1000 results \n",
    "next = driver.find_element(By.XPATH,'/html/body/div[1]/div[3]/div/div/div/div[1]/div/div[3]/li[13]/a')\n",
    "next.click()\n"
   ]
  },
  {
   "cell_type": "code",
   "execution_count": 124,
   "id": "8108aa3d",
   "metadata": {},
   "outputs": [],
   "source": [
    "for i in driver.find_elements(By.XPATH,'//a[@class=\"title\"]'):\n",
    "    Quote.append(i.text)\n",
    "    \n",
    "for i in driver.find_elements(By.XPATH,'//div[@class=\"author\"]'):\n",
    "    Author.append(i.text)\n",
    "\n",
    "for i in driver.find_elements(By.XPATH,'//div[@class=\"tags\"]'):\n",
    "    Quote_Type.append(i.text)"
   ]
  },
  {
   "cell_type": "code",
   "execution_count": 125,
   "id": "7391e2f4",
   "metadata": {},
   "outputs": [
    {
     "name": "stdout",
     "output_type": "stream",
     "text": [
      "300 300 300\n"
     ]
    }
   ],
   "source": [
    "print(len(Quote),len(Author),len(Quote_Type))"
   ]
  },
  {
   "cell_type": "code",
   "execution_count": 126,
   "id": "e27cfbb0",
   "metadata": {},
   "outputs": [],
   "source": [
    "next = driver.find_element(By.XPATH,'/html/body/div[1]/div[3]/div/div/div/div[1]/div/div[3]/li[13]/a')\n",
    "next.click()\n"
   ]
  },
  {
   "cell_type": "code",
   "execution_count": 127,
   "id": "ebca14d2",
   "metadata": {},
   "outputs": [],
   "source": [
    "for i in driver.find_elements(By.XPATH,'//a[@class=\"title\"]'):\n",
    "    Quote.append(i.text)\n",
    "    \n",
    "for i in driver.find_elements(By.XPATH,'//div[@class=\"author\"]'):\n",
    "    Author.append(i.text)\n",
    "\n",
    "for i in driver.find_elements(By.XPATH,'//div[@class=\"tags\"]'):\n",
    "    Quote_Type.append(i.text)"
   ]
  },
  {
   "cell_type": "code",
   "execution_count": 128,
   "id": "41892ef6",
   "metadata": {},
   "outputs": [
    {
     "name": "stdout",
     "output_type": "stream",
     "text": [
      "400 400 400\n"
     ]
    }
   ],
   "source": [
    "print(len(Quote),len(Author),len(Quote_Type))"
   ]
  },
  {
   "cell_type": "code",
   "execution_count": 129,
   "id": "f829ad6d",
   "metadata": {},
   "outputs": [],
   "source": [
    "next = driver.find_element(By.XPATH,'/html/body/div[1]/div[3]/div/div/div/div[1]/div/div[3]/li[13]/a')\n",
    "next.click()"
   ]
  },
  {
   "cell_type": "code",
   "execution_count": 130,
   "id": "48b786bd",
   "metadata": {},
   "outputs": [],
   "source": [
    "for i in driver.find_elements(By.XPATH,'//a[@class=\"title\"]'):\n",
    "    Quote.append(i.text)\n",
    "    \n",
    "for i in driver.find_elements(By.XPATH,'//div[@class=\"author\"]'):\n",
    "    Author.append(i.text)\n",
    "\n",
    "for i in driver.find_elements(By.XPATH,'//div[@class=\"tags\"]'):\n",
    "    Quote_Type.append(i.text)"
   ]
  },
  {
   "cell_type": "code",
   "execution_count": 131,
   "id": "1c0b2a3d",
   "metadata": {},
   "outputs": [
    {
     "name": "stdout",
     "output_type": "stream",
     "text": [
      "500 500 500\n"
     ]
    }
   ],
   "source": [
    "print(len(Quote),len(Author),len(Quote_Type))"
   ]
  },
  {
   "cell_type": "code",
   "execution_count": 132,
   "id": "00aec2ce",
   "metadata": {},
   "outputs": [],
   "source": [
    "next = driver.find_element(By.XPATH,'/html/body/div[1]/div[3]/div/div/div/div[1]/div/div[3]/li[13]/a')\n",
    "next.click()"
   ]
  },
  {
   "cell_type": "code",
   "execution_count": 133,
   "id": "be7b6285",
   "metadata": {},
   "outputs": [],
   "source": [
    "for i in driver.find_elements(By.XPATH,'//a[@class=\"title\"]'):\n",
    "    Quote.append(i.text)\n",
    "    \n",
    "for i in driver.find_elements(By.XPATH,'//div[@class=\"author\"]'):\n",
    "    Author.append(i.text)\n",
    "\n",
    "for i in driver.find_elements(By.XPATH,'//div[@class=\"tags\"]'):\n",
    "    Quote_Type.append(i.text)"
   ]
  },
  {
   "cell_type": "code",
   "execution_count": 134,
   "id": "8972b618",
   "metadata": {},
   "outputs": [
    {
     "name": "stdout",
     "output_type": "stream",
     "text": [
      "600 600 600\n"
     ]
    }
   ],
   "source": [
    "print(len(Quote),len(Author),len(Quote_Type))"
   ]
  },
  {
   "cell_type": "code",
   "execution_count": 135,
   "id": "8555b24d",
   "metadata": {},
   "outputs": [],
   "source": [
    "next = driver.find_element(By.XPATH,'/html/body/div[1]/div[3]/div/div/div/div[1]/div/div[3]/li[13]/a')\n",
    "next.click()"
   ]
  },
  {
   "cell_type": "code",
   "execution_count": 136,
   "id": "aed7279f",
   "metadata": {},
   "outputs": [],
   "source": [
    "for i in driver.find_elements(By.XPATH,'//a[@class=\"title\"]'):\n",
    "    Quote.append(i.text)\n",
    "    \n",
    "for i in driver.find_elements(By.XPATH,'//div[@class=\"author\"]'):\n",
    "    Author.append(i.text)\n",
    "\n",
    "for i in driver.find_elements(By.XPATH,'//div[@class=\"tags\"]'):\n",
    "    Quote_Type.append(i.text)"
   ]
  },
  {
   "cell_type": "code",
   "execution_count": 137,
   "id": "5540da09",
   "metadata": {},
   "outputs": [
    {
     "name": "stdout",
     "output_type": "stream",
     "text": [
      "700 700 700\n"
     ]
    }
   ],
   "source": [
    "print(len(Quote),len(Author),len(Quote_Type))"
   ]
  },
  {
   "cell_type": "code",
   "execution_count": 138,
   "id": "c85a40b9",
   "metadata": {},
   "outputs": [],
   "source": [
    "next = driver.find_element(By.XPATH,'/html/body/div[1]/div[3]/div/div/div/div[1]/div/div[3]/li[13]/a')\n",
    "next.click()"
   ]
  },
  {
   "cell_type": "code",
   "execution_count": 139,
   "id": "3d7416a8",
   "metadata": {},
   "outputs": [],
   "source": [
    "for i in driver.find_elements(By.XPATH,'//a[@class=\"title\"]'):\n",
    "    Quote.append(i.text)\n",
    "    \n",
    "for i in driver.find_elements(By.XPATH,'//div[@class=\"author\"]'):\n",
    "    Author.append(i.text)\n",
    "\n",
    "for i in driver.find_elements(By.XPATH,'//div[@class=\"tags\"]'):\n",
    "    Quote_Type.append(i.text)"
   ]
  },
  {
   "cell_type": "code",
   "execution_count": 140,
   "id": "06447dd2",
   "metadata": {},
   "outputs": [],
   "source": [
    "next = driver.find_element(By.XPATH,'/html/body/div[1]/div[3]/div/div/div/div[1]/div/div[3]/li[13]/a')\n",
    "next.click()"
   ]
  },
  {
   "cell_type": "code",
   "execution_count": 141,
   "id": "474fd119",
   "metadata": {},
   "outputs": [],
   "source": [
    "for i in driver.find_elements(By.XPATH,'//a[@class=\"title\"]'):\n",
    "    Quote.append(i.text)\n",
    "    \n",
    "for i in driver.find_elements(By.XPATH,'//div[@class=\"author\"]'):\n",
    "    Author.append(i.text)\n",
    "\n",
    "for i in driver.find_elements(By.XPATH,'//div[@class=\"tags\"]'):\n",
    "    Quote_Type.append(i.text)"
   ]
  },
  {
   "cell_type": "code",
   "execution_count": 142,
   "id": "60b1df63",
   "metadata": {},
   "outputs": [
    {
     "name": "stdout",
     "output_type": "stream",
     "text": [
      "900 900 900\n"
     ]
    }
   ],
   "source": [
    "print(len(Quote),len(Author),len(Quote_Type))"
   ]
  },
  {
   "cell_type": "code",
   "execution_count": 143,
   "id": "0d7e5374",
   "metadata": {},
   "outputs": [],
   "source": [
    "next = driver.find_element(By.XPATH,'/html/body/div[1]/div[3]/div/div/div/div[1]/div/div[3]/li[13]/a')\n",
    "next.click()"
   ]
  },
  {
   "cell_type": "code",
   "execution_count": 144,
   "id": "afe24cc8",
   "metadata": {},
   "outputs": [],
   "source": [
    "for i in driver.find_elements(By.XPATH,'//a[@class=\"title\"]'):\n",
    "    Quote.append(i.text)\n",
    "    \n",
    "for i in driver.find_elements(By.XPATH,'//div[@class=\"author\"]'):\n",
    "    Author.append(i.text)\n",
    "\n",
    "for i in driver.find_elements(By.XPATH,'//div[@class=\"tags\"]'):\n",
    "    Quote_Type.append(i.text)"
   ]
  },
  {
   "cell_type": "code",
   "execution_count": 145,
   "id": "9fa28a03",
   "metadata": {},
   "outputs": [
    {
     "name": "stdout",
     "output_type": "stream",
     "text": [
      "1000 1000 1000\n"
     ]
    }
   ],
   "source": [
    "print(len(Quote),len(Author),len(Quote_Type))"
   ]
  },
  {
   "cell_type": "code",
   "execution_count": 146,
   "id": "5fc79dc8",
   "metadata": {},
   "outputs": [],
   "source": [
    "import pandas as pd"
   ]
  },
  {
   "cell_type": "code",
   "execution_count": 147,
   "id": "450ff8f7",
   "metadata": {},
   "outputs": [],
   "source": [
    "Quotes = pd.DataFrame({'Quotes':Quote[0:1000],'Author':Author[0:1000],'Type of Quote':Quote_Type[0:1000]})"
   ]
  },
  {
   "cell_type": "code",
   "execution_count": 148,
   "id": "604aeaf8",
   "metadata": {},
   "outputs": [
    {
     "data": {
      "text/html": [
       "<div>\n",
       "<style scoped>\n",
       "    .dataframe tbody tr th:only-of-type {\n",
       "        vertical-align: middle;\n",
       "    }\n",
       "\n",
       "    .dataframe tbody tr th {\n",
       "        vertical-align: top;\n",
       "    }\n",
       "\n",
       "    .dataframe thead th {\n",
       "        text-align: right;\n",
       "    }\n",
       "</style>\n",
       "<table border=\"1\" class=\"dataframe\">\n",
       "  <thead>\n",
       "    <tr style=\"text-align: right;\">\n",
       "      <th></th>\n",
       "      <th>Quotes</th>\n",
       "      <th>Author</th>\n",
       "      <th>Type of Quote</th>\n",
       "    </tr>\n",
       "  </thead>\n",
       "  <tbody>\n",
       "    <tr>\n",
       "      <th>0</th>\n",
       "      <td>The essence of strategy is choosing what not t...</td>\n",
       "      <td>Michael Porter</td>\n",
       "      <td>Essence, Deep Thought, Transcendentalism</td>\n",
       "    </tr>\n",
       "    <tr>\n",
       "      <th>1</th>\n",
       "      <td>One cannot and must not try to erase the past ...</td>\n",
       "      <td>Golda Meir</td>\n",
       "      <td>Inspiration, Past, Trying</td>\n",
       "    </tr>\n",
       "    <tr>\n",
       "      <th>2</th>\n",
       "      <td>Patriotism means to stand by the country. It d...</td>\n",
       "      <td>Theodore Roosevelt</td>\n",
       "      <td>Country, Peace, War</td>\n",
       "    </tr>\n",
       "    <tr>\n",
       "      <th>3</th>\n",
       "      <td>Death is something inevitable. When a man has ...</td>\n",
       "      <td>Nelson Mandela</td>\n",
       "      <td>Inspirational, Motivational, Death</td>\n",
       "    </tr>\n",
       "    <tr>\n",
       "      <th>4</th>\n",
       "      <td>You have to love a nation that celebrates its ...</td>\n",
       "      <td>Erma Bombeck</td>\n",
       "      <td>4th Of July, Food, Patriotic</td>\n",
       "    </tr>\n",
       "    <tr>\n",
       "      <th>...</th>\n",
       "      <td>...</td>\n",
       "      <td>...</td>\n",
       "      <td>...</td>\n",
       "    </tr>\n",
       "    <tr>\n",
       "      <th>995</th>\n",
       "      <td>Regret for the things we did can be tempered b...</td>\n",
       "      <td>Sydney J. Harris</td>\n",
       "      <td>Love, Inspirational, Motivational</td>\n",
       "    </tr>\n",
       "    <tr>\n",
       "      <th>996</th>\n",
       "      <td>America... just a nation of two hundred millio...</td>\n",
       "      <td>Hunter S. Thompson</td>\n",
       "      <td>Gun, Two, Qualms About</td>\n",
       "    </tr>\n",
       "    <tr>\n",
       "      <th>997</th>\n",
       "      <td>For every disciplined effort there is a multip...</td>\n",
       "      <td>Jim Rohn</td>\n",
       "      <td>Inspirational, Greatness, Best Effort</td>\n",
       "    </tr>\n",
       "    <tr>\n",
       "      <th>998</th>\n",
       "      <td>The spiritual journey is individual, highly pe...</td>\n",
       "      <td>Ram Dass</td>\n",
       "      <td>Spiritual, Truth, Yoga</td>\n",
       "    </tr>\n",
       "    <tr>\n",
       "      <th>999</th>\n",
       "      <td>The mind is not a vessel to be filled but a fi...</td>\n",
       "      <td>Plutarch</td>\n",
       "      <td>Inspirational, Leadership, Education</td>\n",
       "    </tr>\n",
       "  </tbody>\n",
       "</table>\n",
       "<p>1000 rows × 3 columns</p>\n",
       "</div>"
      ],
      "text/plain": [
       "                                                Quotes              Author  \\\n",
       "0    The essence of strategy is choosing what not t...      Michael Porter   \n",
       "1    One cannot and must not try to erase the past ...          Golda Meir   \n",
       "2    Patriotism means to stand by the country. It d...  Theodore Roosevelt   \n",
       "3    Death is something inevitable. When a man has ...      Nelson Mandela   \n",
       "4    You have to love a nation that celebrates its ...        Erma Bombeck   \n",
       "..                                                 ...                 ...   \n",
       "995  Regret for the things we did can be tempered b...    Sydney J. Harris   \n",
       "996  America... just a nation of two hundred millio...  Hunter S. Thompson   \n",
       "997  For every disciplined effort there is a multip...            Jim Rohn   \n",
       "998  The spiritual journey is individual, highly pe...            Ram Dass   \n",
       "999  The mind is not a vessel to be filled but a fi...            Plutarch   \n",
       "\n",
       "                                Type of Quote  \n",
       "0    Essence, Deep Thought, Transcendentalism  \n",
       "1                   Inspiration, Past, Trying  \n",
       "2                         Country, Peace, War  \n",
       "3          Inspirational, Motivational, Death  \n",
       "4                4th Of July, Food, Patriotic  \n",
       "..                                        ...  \n",
       "995         Love, Inspirational, Motivational  \n",
       "996                    Gun, Two, Qualms About  \n",
       "997     Inspirational, Greatness, Best Effort  \n",
       "998                    Spiritual, Truth, Yoga  \n",
       "999      Inspirational, Leadership, Education  \n",
       "\n",
       "[1000 rows x 3 columns]"
      ]
     },
     "execution_count": 148,
     "metadata": {},
     "output_type": "execute_result"
    }
   ],
   "source": [
    "Quotes"
   ]
  },
  {
   "cell_type": "markdown",
   "id": "c28baac6",
   "metadata": {},
   "source": [
    "Q9: Write a python program to display list of respected former Prime Ministers of India(i.e. Name, Born-Dead,\n",
    "Term of office, Remarks) from https://www.jagranjosh.com/.\n",
    "This task will be done in following steps:\n",
    "1. First get the webpagehttps://www.jagranjosh.com/\n",
    "2. Then You have to click on the GK option\n",
    "3. Then click on the List of all Prime Ministers of India\n",
    "4. Then scrap the mentioned data and make theDataFrame."
   ]
  },
  {
   "cell_type": "code",
   "execution_count": 21,
   "id": "72fa7449",
   "metadata": {},
   "outputs": [],
   "source": [
    "import selenium\n",
    "from selenium import webdriver\n",
    "from selenium.webdriver.common.by import By\n",
    "from selenium.webdriver.common.keys import Keys\n",
    "import warnings\n",
    "warnings.filterwarnings(\"ignore\")\n",
    "import time"
   ]
  },
  {
   "cell_type": "code",
   "execution_count": 22,
   "id": "1d06a983",
   "metadata": {},
   "outputs": [],
   "source": [
    "driver = webdriver.Chrome()"
   ]
  },
  {
   "cell_type": "code",
   "execution_count": 23,
   "id": "6c3ee327",
   "metadata": {},
   "outputs": [],
   "source": [
    "driver.get('https://www.jagranjosh.com/')"
   ]
  },
  {
   "cell_type": "code",
   "execution_count": 26,
   "id": "c7e57b77",
   "metadata": {},
   "outputs": [],
   "source": [
    "#Select GK option \n",
    "GK = driver.find_element(By.XPATH,'/html/body/div[1]/div/div/div[1]/div/div[3]/div/div[1]/header/div[3]/ul/li[3]/a')\n",
    "GK.click()"
   ]
  },
  {
   "cell_type": "code",
   "execution_count": 30,
   "id": "499f8df0",
   "metadata": {},
   "outputs": [],
   "source": [
    "#Select list of prime ministers of India\n",
    "List_of_PM_India = driver.find_element(By.XPATH,'/html/body/div[1]/div/div/div[2]/div/div[10]/div/div/ul/li[2]/a')\n",
    "List_of_PM_India.click()"
   ]
  },
  {
   "cell_type": "code",
   "execution_count": 33,
   "id": "2663f832",
   "metadata": {},
   "outputs": [],
   "source": [
    "rows =driver.find_elements(By.XPATH,\"//table/tbody/tr\")\n"
   ]
  },
  {
   "cell_type": "code",
   "execution_count": 36,
   "id": "2882e007",
   "metadata": {},
   "outputs": [
    {
     "data": {
      "text/plain": [
       "21"
      ]
     },
     "execution_count": 36,
     "metadata": {},
     "output_type": "execute_result"
    }
   ],
   "source": [
    "r = len(rows)\n",
    "r"
   ]
  },
  {
   "cell_type": "code",
   "execution_count": 37,
   "id": "0d20813d",
   "metadata": {},
   "outputs": [],
   "source": [
    "columns = driver.find_elements(By.XPATH,\"//table/tbody/tr[1]/th\")"
   ]
  },
  {
   "cell_type": "code",
   "execution_count": 38,
   "id": "75dd66a7",
   "metadata": {},
   "outputs": [
    {
     "data": {
      "text/plain": [
       "5"
      ]
     },
     "execution_count": 38,
     "metadata": {},
     "output_type": "execute_result"
    }
   ],
   "source": [
    "c = len(columns)\n",
    "c"
   ]
  },
  {
   "cell_type": "code",
   "execution_count": 45,
   "id": "06a0c066",
   "metadata": {},
   "outputs": [],
   "source": [
    "Name = []\n",
    "for i in driver.find_elements(By.XPATH,'//*[@id=\"itemdiv\"]/div[4]/span/div[3]/table/tbody/tr[2]/td[2]'):\n",
    "    Name.append(i.text)\n"
   ]
  },
  {
   "cell_type": "code",
   "execution_count": 46,
   "id": "8bfb9e0e",
   "metadata": {},
   "outputs": [],
   "source": [
    "Born_Dead = []\n",
    "for i in driver.find_elements(By.XPATH,'//*[@id=\"itemdiv\"]/div[4]/span/div[3]/table/tbody/tr[2]/td[3]/p'):\n",
    "    Born_Dead.append(i.text)"
   ]
  },
  {
   "cell_type": "code",
   "execution_count": 47,
   "id": "4f01efbe",
   "metadata": {},
   "outputs": [],
   "source": [
    "Term = []\n",
    "for i in driver.find_elements(By.XPATH,'//*[@id=\"itemdiv\"]/div[4]/span/div[3]/table/tbody/tr[2]/td[4]/p[2]/span'):\n",
    "    Term.append(i.text)"
   ]
  },
  {
   "cell_type": "code",
   "execution_count": 48,
   "id": "5133acfe",
   "metadata": {},
   "outputs": [],
   "source": [
    "Remarks = []\n",
    "for i in driver.find_elements(By.XPATH,'//*[@id=\"itemdiv\"]/div[4]/span/div[3]/table/tbody/tr[2]/td[5]/p'):\n",
    "    Remarks.append(i.text)"
   ]
  },
  {
   "cell_type": "code",
   "execution_count": 49,
   "id": "7a957961",
   "metadata": {},
   "outputs": [
    {
     "name": "stdout",
     "output_type": "stream",
     "text": [
      "1 1 1 1\n"
     ]
    }
   ],
   "source": [
    "print(len(Name),len(Born_Dead), len(Term),len(Remarks))"
   ]
  },
  {
   "cell_type": "code",
   "execution_count": null,
   "id": "97e27947",
   "metadata": {},
   "outputs": [],
   "source": [
    "Name =[]\n",
    "\n",
    "for (int rows =0"
   ]
  },
  {
   "cell_type": "code",
   "execution_count": null,
   "id": "09fdb3bb",
   "metadata": {},
   "outputs": [],
   "source": []
  },
  {
   "cell_type": "code",
   "execution_count": null,
   "id": "4ea245cc",
   "metadata": {},
   "outputs": [],
   "source": []
  },
  {
   "cell_type": "code",
   "execution_count": null,
   "id": "91026409",
   "metadata": {},
   "outputs": [],
   "source": []
  },
  {
   "cell_type": "code",
   "execution_count": 52,
   "id": "5411ef0c",
   "metadata": {},
   "outputs": [
    {
     "data": {
      "text/html": [
       "<div>\n",
       "<style scoped>\n",
       "    .dataframe tbody tr th:only-of-type {\n",
       "        vertical-align: middle;\n",
       "    }\n",
       "\n",
       "    .dataframe tbody tr th {\n",
       "        vertical-align: top;\n",
       "    }\n",
       "\n",
       "    .dataframe thead th {\n",
       "        text-align: right;\n",
       "    }\n",
       "</style>\n",
       "<table border=\"1\" class=\"dataframe\">\n",
       "  <thead>\n",
       "    <tr style=\"text-align: right;\">\n",
       "      <th></th>\n",
       "      <th>Name</th>\n",
       "      <th>Born_Dead</th>\n",
       "      <th>Term</th>\n",
       "      <th>Remarks</th>\n",
       "    </tr>\n",
       "  </thead>\n",
       "  <tbody>\n",
       "    <tr>\n",
       "      <th>0</th>\n",
       "      <td>Jawahar Lal Nehru</td>\n",
       "      <td>(1889–1964)</td>\n",
       "      <td>16 years, 286 days</td>\n",
       "      <td>The first prime minister of India and the long...</td>\n",
       "    </tr>\n",
       "  </tbody>\n",
       "</table>\n",
       "</div>"
      ],
      "text/plain": [
       "                Name    Born_Dead                Term  \\\n",
       "0  Jawahar Lal Nehru  (1889–1964)  16 years, 286 days   \n",
       "\n",
       "                                             Remarks  \n",
       "0  The first prime minister of India and the long...  "
      ]
     },
     "execution_count": 52,
     "metadata": {},
     "output_type": "execute_result"
    }
   ],
   "source": [
    "import pandas as pd\n",
    "\n",
    "PM = pd.DataFrame({'Name':Name,'Born_Dead':Born_Dead,'Term':Term, 'Remarks':Remarks})\n",
    "PM"
   ]
  },
  {
   "cell_type": "code",
   "execution_count": null,
   "id": "bc03994b",
   "metadata": {},
   "outputs": [],
   "source": []
  },
  {
   "cell_type": "markdown",
   "id": "265714fa",
   "metadata": {},
   "source": [
    "Q10: Write a python program to display list of 50 Most expensive cars in the world (i.e.\n",
    "Car name and Price) from https://www.motor1.com/\n",
    "This task will be done in following steps:\n",
    "1. First get the webpagehttps://www.motor1.com/\n",
    "2. Then You have to type in the search bar ’50 most expensive cars’\n",
    "3. Then click on 50 most expensive carsin the world..\n",
    "4. Then scrap the mentioned data and make the dataframe."
   ]
  },
  {
   "cell_type": "code",
   "execution_count": 2,
   "id": "ae533f87",
   "metadata": {},
   "outputs": [],
   "source": [
    "import selenium\n",
    "from selenium import webdriver\n",
    "from selenium.webdriver.common.by import By\n",
    "from selenium.webdriver.common.keys import Keys\n",
    "import warnings\n",
    "warnings.filterwarnings(\"ignore\")\n",
    "import time"
   ]
  },
  {
   "cell_type": "code",
   "execution_count": 3,
   "id": "48ed467f",
   "metadata": {},
   "outputs": [],
   "source": [
    "driver = webdriver.Chrome()"
   ]
  },
  {
   "cell_type": "code",
   "execution_count": 4,
   "id": "347095e1",
   "metadata": {},
   "outputs": [],
   "source": [
    "driver.get('https://www.motor1.com/')"
   ]
  },
  {
   "cell_type": "code",
   "execution_count": 5,
   "id": "898d77bc",
   "metadata": {},
   "outputs": [],
   "source": [
    "#remove the pop up page\n",
    "pop_up_page =driver.find_element(By.XPATH,'/html/body/div[20]/div[2]/div/div/div[2]/div/div/button')\n",
    "pop_up_page.click()"
   ]
  },
  {
   "cell_type": "code",
   "execution_count": 6,
   "id": "d9f35231",
   "metadata": {},
   "outputs": [],
   "source": [
    "#50 Most expensive cars\n",
    "\n",
    "search = driver.find_element(By.XPATH,'/html/body/div[10]/div[2]/div/div/div[3]/div/div/div/form/input')\n",
    "search .send_keys('50 Most expensive cars')\n"
   ]
  },
  {
   "cell_type": "code",
   "execution_count": 10,
   "id": "062cdd94",
   "metadata": {},
   "outputs": [],
   "source": [
    "search =driver.find_element(By.XPATH,'/html/body/div[10]/div[2]/div/div/div[3]/div/div/div/form/input')\n",
    "search.click()\n",
    "time.sleep(5)"
   ]
  },
  {
   "cell_type": "code",
   "execution_count": 14,
   "id": "52e8320c",
   "metadata": {},
   "outputs": [],
   "source": [
    "#Select 50 Most expensive cars in the world\n",
    "\n",
    "Expensive_Cars = driver.find_element(By.XPATH,'/html/body/div[10]/div[9]/div/div[1]/div/div/div[2]/div/div[1]/h3/a')\n",
    "Expensive_Cars.click()"
   ]
  },
  {
   "cell_type": "code",
   "execution_count": 15,
   "id": "cb92849d",
   "metadata": {},
   "outputs": [],
   "source": [
    "Car_Name = []\n",
    "for i in driver.find_elements(By.XPATH,'//h3[@class=\"subheader\"]'):\n",
    "    Car_Name.append(i.text)"
   ]
  },
  {
   "cell_type": "code",
   "execution_count": 53,
   "id": "4ce554e6",
   "metadata": {},
   "outputs": [],
   "source": [
    "Price = []\n",
    "\n",
    "for i in driver.find_elements(By.XPATH,'//*[@id=\"article_box\"]/div[1]/div[2]/div[1]/p[4]/strong'):\n",
    "    Price.append(i.text)"
   ]
  },
  {
   "cell_type": "code",
   "execution_count": 54,
   "id": "bbbd6b1b",
   "metadata": {},
   "outputs": [
    {
     "name": "stdout",
     "output_type": "stream",
     "text": [
      "51 0\n"
     ]
    }
   ],
   "source": [
    "print(len(Car_Name), len(Price))"
   ]
  },
  {
   "cell_type": "code",
   "execution_count": 17,
   "id": "41df3b0f",
   "metadata": {},
   "outputs": [],
   "source": [
    "import pandas as pd"
   ]
  },
  {
   "cell_type": "code",
   "execution_count": 18,
   "id": "a7b88fe6",
   "metadata": {},
   "outputs": [],
   "source": [
    "Cars = pd.DataFrame({'Car Name':Car_Name[0:50]})"
   ]
  },
  {
   "cell_type": "code",
   "execution_count": 19,
   "id": "b11ed42d",
   "metadata": {},
   "outputs": [
    {
     "data": {
      "text/html": [
       "<div>\n",
       "<style scoped>\n",
       "    .dataframe tbody tr th:only-of-type {\n",
       "        vertical-align: middle;\n",
       "    }\n",
       "\n",
       "    .dataframe tbody tr th {\n",
       "        vertical-align: top;\n",
       "    }\n",
       "\n",
       "    .dataframe thead th {\n",
       "        text-align: right;\n",
       "    }\n",
       "</style>\n",
       "<table border=\"1\" class=\"dataframe\">\n",
       "  <thead>\n",
       "    <tr style=\"text-align: right;\">\n",
       "      <th></th>\n",
       "      <th>Car Name</th>\n",
       "    </tr>\n",
       "  </thead>\n",
       "  <tbody>\n",
       "    <tr>\n",
       "      <th>0</th>\n",
       "      <td>De Tomaso P72</td>\n",
       "    </tr>\n",
       "    <tr>\n",
       "      <th>1</th>\n",
       "      <td>Ferrari LaFerrari</td>\n",
       "    </tr>\n",
       "    <tr>\n",
       "      <th>2</th>\n",
       "      <td>Pagani Huayra</td>\n",
       "    </tr>\n",
       "    <tr>\n",
       "      <th>3</th>\n",
       "      <td>McLaren Elva</td>\n",
       "    </tr>\n",
       "    <tr>\n",
       "      <th>4</th>\n",
       "      <td>Czinger 21C</td>\n",
       "    </tr>\n",
       "    <tr>\n",
       "      <th>5</th>\n",
       "      <td>Ferrari Monza</td>\n",
       "    </tr>\n",
       "    <tr>\n",
       "      <th>6</th>\n",
       "      <td>Gordon Murray T.33</td>\n",
       "    </tr>\n",
       "    <tr>\n",
       "      <th>7</th>\n",
       "      <td>Koenigsegg Gemera</td>\n",
       "    </tr>\n",
       "    <tr>\n",
       "      <th>8</th>\n",
       "      <td>Zenvo TSR-S</td>\n",
       "    </tr>\n",
       "    <tr>\n",
       "      <th>9</th>\n",
       "      <td>Hennessey Venom F5</td>\n",
       "    </tr>\n",
       "    <tr>\n",
       "      <th>10</th>\n",
       "      <td>Bentley Bacalar</td>\n",
       "    </tr>\n",
       "    <tr>\n",
       "      <th>11</th>\n",
       "      <td>Hispano Suiza Carmen Boulogne</td>\n",
       "    </tr>\n",
       "    <tr>\n",
       "      <th>12</th>\n",
       "      <td>Bentley Mulliner Batur</td>\n",
       "    </tr>\n",
       "    <tr>\n",
       "      <th>13</th>\n",
       "      <td>Deus Vayanne</td>\n",
       "    </tr>\n",
       "    <tr>\n",
       "      <th>14</th>\n",
       "      <td>SSC Tuatara</td>\n",
       "    </tr>\n",
       "    <tr>\n",
       "      <th>15</th>\n",
       "      <td>Lotus Evija</td>\n",
       "    </tr>\n",
       "    <tr>\n",
       "      <th>16</th>\n",
       "      <td>Aston Martin Vulcan</td>\n",
       "    </tr>\n",
       "    <tr>\n",
       "      <th>17</th>\n",
       "      <td>Delage D12</td>\n",
       "    </tr>\n",
       "    <tr>\n",
       "      <th>18</th>\n",
       "      <td>McLaren Speedtail</td>\n",
       "    </tr>\n",
       "    <tr>\n",
       "      <th>19</th>\n",
       "      <td>Rimac Nevera</td>\n",
       "    </tr>\n",
       "    <tr>\n",
       "      <th>20</th>\n",
       "      <td>Pagani Utopia</td>\n",
       "    </tr>\n",
       "    <tr>\n",
       "      <th>21</th>\n",
       "      <td>Pininfarina Battista</td>\n",
       "    </tr>\n",
       "    <tr>\n",
       "      <th>22</th>\n",
       "      <td>Ferrari FXX K Evo</td>\n",
       "    </tr>\n",
       "    <tr>\n",
       "      <th>23</th>\n",
       "      <td>Gordon Murray T.50</td>\n",
       "    </tr>\n",
       "    <tr>\n",
       "      <th>24</th>\n",
       "      <td>Lamborghini Countach</td>\n",
       "    </tr>\n",
       "    <tr>\n",
       "      <th>25</th>\n",
       "      <td>Mercedes-AMG Project One</td>\n",
       "    </tr>\n",
       "    <tr>\n",
       "      <th>26</th>\n",
       "      <td>Aston Martin Victor</td>\n",
       "    </tr>\n",
       "    <tr>\n",
       "      <th>27</th>\n",
       "      <td>Hennessey Venom F5 Roadster</td>\n",
       "    </tr>\n",
       "    <tr>\n",
       "      <th>28</th>\n",
       "      <td>Koenigsegg Jesko</td>\n",
       "    </tr>\n",
       "    <tr>\n",
       "      <th>29</th>\n",
       "      <td>Aston Martin Valkyrie</td>\n",
       "    </tr>\n",
       "    <tr>\n",
       "      <th>30</th>\n",
       "      <td>W Motors Lykan Hypersport</td>\n",
       "    </tr>\n",
       "    <tr>\n",
       "      <th>31</th>\n",
       "      <td>McLaren Solus</td>\n",
       "    </tr>\n",
       "    <tr>\n",
       "      <th>32</th>\n",
       "      <td>Pagani Huayra Roadster BC</td>\n",
       "    </tr>\n",
       "    <tr>\n",
       "      <th>33</th>\n",
       "      <td>Bugatti Chiron Pur Sport</td>\n",
       "    </tr>\n",
       "    <tr>\n",
       "      <th>34</th>\n",
       "      <td>Lamborghini Sian</td>\n",
       "    </tr>\n",
       "    <tr>\n",
       "      <th>35</th>\n",
       "      <td>Koenigsegg CC850</td>\n",
       "    </tr>\n",
       "    <tr>\n",
       "      <th>36</th>\n",
       "      <td>Bugatti Chiron Super Sport 300+</td>\n",
       "    </tr>\n",
       "    <tr>\n",
       "      <th>37</th>\n",
       "      <td>Lamborghini Veneno</td>\n",
       "    </tr>\n",
       "    <tr>\n",
       "      <th>38</th>\n",
       "      <td>Bugatti Bolide</td>\n",
       "    </tr>\n",
       "    <tr>\n",
       "      <th>39</th>\n",
       "      <td>Bugatti Mistral</td>\n",
       "    </tr>\n",
       "    <tr>\n",
       "      <th>40</th>\n",
       "      <td>Pagani Huayra Imola</td>\n",
       "    </tr>\n",
       "    <tr>\n",
       "      <th>41</th>\n",
       "      <td>Bugatti Divo</td>\n",
       "    </tr>\n",
       "    <tr>\n",
       "      <th>42</th>\n",
       "      <td>SP Automotive Chaos</td>\n",
       "    </tr>\n",
       "    <tr>\n",
       "      <th>43</th>\n",
       "      <td>Pagani Codalunga</td>\n",
       "    </tr>\n",
       "    <tr>\n",
       "      <th>44</th>\n",
       "      <td>Mercedes-Maybach Exelero</td>\n",
       "    </tr>\n",
       "    <tr>\n",
       "      <th>45</th>\n",
       "      <td>Bugatti Centodieci</td>\n",
       "    </tr>\n",
       "    <tr>\n",
       "      <th>46</th>\n",
       "      <td>Bugatti Chiron Profilée</td>\n",
       "    </tr>\n",
       "    <tr>\n",
       "      <th>47</th>\n",
       "      <td>Rolls-Royce Sweptail</td>\n",
       "    </tr>\n",
       "    <tr>\n",
       "      <th>48</th>\n",
       "      <td>Bugatti La Voiture Noire</td>\n",
       "    </tr>\n",
       "    <tr>\n",
       "      <th>49</th>\n",
       "      <td>Rolls-Royce Boat Tail*</td>\n",
       "    </tr>\n",
       "  </tbody>\n",
       "</table>\n",
       "</div>"
      ],
      "text/plain": [
       "                           Car Name\n",
       "0                     De Tomaso P72\n",
       "1                 Ferrari LaFerrari\n",
       "2                     Pagani Huayra\n",
       "3                      McLaren Elva\n",
       "4                       Czinger 21C\n",
       "5                     Ferrari Monza\n",
       "6                Gordon Murray T.33\n",
       "7                 Koenigsegg Gemera\n",
       "8                       Zenvo TSR-S\n",
       "9                Hennessey Venom F5\n",
       "10                  Bentley Bacalar\n",
       "11    Hispano Suiza Carmen Boulogne\n",
       "12           Bentley Mulliner Batur\n",
       "13                     Deus Vayanne\n",
       "14                      SSC Tuatara\n",
       "15                      Lotus Evija\n",
       "16              Aston Martin Vulcan\n",
       "17                       Delage D12\n",
       "18                McLaren Speedtail\n",
       "19                     Rimac Nevera\n",
       "20                    Pagani Utopia\n",
       "21             Pininfarina Battista\n",
       "22                Ferrari FXX K Evo\n",
       "23               Gordon Murray T.50\n",
       "24             Lamborghini Countach\n",
       "25         Mercedes-AMG Project One\n",
       "26              Aston Martin Victor\n",
       "27      Hennessey Venom F5 Roadster\n",
       "28                 Koenigsegg Jesko\n",
       "29            Aston Martin Valkyrie\n",
       "30        W Motors Lykan Hypersport\n",
       "31                    McLaren Solus\n",
       "32        Pagani Huayra Roadster BC\n",
       "33         Bugatti Chiron Pur Sport\n",
       "34                 Lamborghini Sian\n",
       "35                 Koenigsegg CC850\n",
       "36  Bugatti Chiron Super Sport 300+\n",
       "37               Lamborghini Veneno\n",
       "38                   Bugatti Bolide\n",
       "39                  Bugatti Mistral\n",
       "40              Pagani Huayra Imola\n",
       "41                     Bugatti Divo\n",
       "42              SP Automotive Chaos\n",
       "43                 Pagani Codalunga\n",
       "44         Mercedes-Maybach Exelero\n",
       "45               Bugatti Centodieci\n",
       "46          Bugatti Chiron Profilée\n",
       "47             Rolls-Royce Sweptail\n",
       "48         Bugatti La Voiture Noire\n",
       "49           Rolls-Royce Boat Tail*"
      ]
     },
     "execution_count": 19,
     "metadata": {},
     "output_type": "execute_result"
    }
   ],
   "source": [
    "Cars"
   ]
  },
  {
   "cell_type": "code",
   "execution_count": null,
   "id": "bcf45d91",
   "metadata": {},
   "outputs": [],
   "source": []
  },
  {
   "cell_type": "code",
   "execution_count": null,
   "id": "26d13bad",
   "metadata": {},
   "outputs": [],
   "source": []
  },
  {
   "cell_type": "code",
   "execution_count": null,
   "id": "378ed483",
   "metadata": {},
   "outputs": [],
   "source": []
  }
 ],
 "metadata": {
  "kernelspec": {
   "display_name": "Python 3 (ipykernel)",
   "language": "python",
   "name": "python3"
  },
  "language_info": {
   "codemirror_mode": {
    "name": "ipython",
    "version": 3
   },
   "file_extension": ".py",
   "mimetype": "text/x-python",
   "name": "python",
   "nbconvert_exporter": "python",
   "pygments_lexer": "ipython3",
   "version": "3.9.16"
  }
 },
 "nbformat": 4,
 "nbformat_minor": 5
}
