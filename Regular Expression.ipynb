{
 "cells": [
  {
   "cell_type": "markdown",
   "id": "d0d52f13",
   "metadata": {},
   "source": [
    "Question 1- Write a Python program to check that a string contains only a certain set of characters (in this case a-z, A-Z and 0-9)."
   ]
  },
  {
   "cell_type": "code",
   "execution_count": 1,
   "id": "aff5a93c",
   "metadata": {},
   "outputs": [],
   "source": [
    "import re\n"
   ]
  },
  {
   "cell_type": "code",
   "execution_count": 2,
   "id": "2db593cd",
   "metadata": {},
   "outputs": [
    {
     "name": "stdout",
     "output_type": "stream",
     "text": [
      "True\n"
     ]
    }
   ],
   "source": [
    "def contains_only_certain_char(string):\n",
    "    pattern = re.compile(r'[^a-zA-Z0-9.]')\n",
    "    string = pattern.search(string)\n",
    "    return not bool(string)\n",
    "print(contains_only_certain_char(\"abcdeABCDEF158313\"))"
   ]
  },
  {
   "cell_type": "markdown",
   "id": "1b8cc19d",
   "metadata": {},
   "source": [
    "\n",
    "Question 2- Create a function in python that matches a string that has an a followed by zero or more b's.\n",
    "\n"
   ]
  },
  {
   "cell_type": "code",
   "execution_count": 3,
   "id": "e77bd00d",
   "metadata": {},
   "outputs": [],
   "source": [
    "import re"
   ]
  },
  {
   "cell_type": "code",
   "execution_count": 4,
   "id": "4a3e3e77",
   "metadata": {},
   "outputs": [],
   "source": [
    "def string_match(string):\n",
    "    pattern = 'ab*?'\n",
    "    if re.search(pattern, string):\n",
    "        return 'Match found'\n",
    "    else: \n",
    "        return 'Match not found'"
   ]
  },
  {
   "cell_type": "code",
   "execution_count": 5,
   "id": "f0324158",
   "metadata": {},
   "outputs": [
    {
     "name": "stdout",
     "output_type": "stream",
     "text": [
      "Match found\n",
      "Match found\n"
     ]
    }
   ],
   "source": [
    "print(string_match(\"apple\"))\n",
    "print(string_match(\"ball\"))"
   ]
  },
  {
   "cell_type": "markdown",
   "id": "4e2f3e4c",
   "metadata": {},
   "source": [
    "Question 3-  Create a function in python that matches a string that has an a followed by one or more b's"
   ]
  },
  {
   "cell_type": "code",
   "execution_count": 6,
   "id": "55fdabd0",
   "metadata": {},
   "outputs": [],
   "source": [
    "import re"
   ]
  },
  {
   "cell_type": "code",
   "execution_count": 7,
   "id": "889e8820",
   "metadata": {},
   "outputs": [],
   "source": [
    "def string_match(string):\n",
    "    pattern = 'ab+?'\n",
    "    if re.search(pattern, string):\n",
    "        return 'Match Found'\n",
    "    else:\n",
    "        return 'Match Not Found'"
   ]
  },
  {
   "cell_type": "code",
   "execution_count": 8,
   "id": "19ce840b",
   "metadata": {},
   "outputs": [
    {
     "name": "stdout",
     "output_type": "stream",
     "text": [
      "Match Not Found\n",
      "Match Found\n"
     ]
    }
   ],
   "source": [
    "print(string_match(\"apple\"))\n",
    "print(string_match(\"abcde\"))"
   ]
  },
  {
   "cell_type": "markdown",
   "id": "ba81854a",
   "metadata": {},
   "source": [
    "Question 4- Create a function in Python and use RegEx that matches a string that has an a followed by zero or one 'b'."
   ]
  },
  {
   "cell_type": "code",
   "execution_count": 9,
   "id": "912006f7",
   "metadata": {},
   "outputs": [],
   "source": [
    "def string_match(string):\n",
    "    pattern = 'ab??'\n",
    "    if re.search(pattern, string):\n",
    "        return 'Match Found'\n",
    "    else:\n",
    "        return 'Match Not found'\n",
    "    "
   ]
  },
  {
   "cell_type": "code",
   "execution_count": 10,
   "id": "b4e5971f",
   "metadata": {},
   "outputs": [
    {
     "name": "stdout",
     "output_type": "stream",
     "text": [
      "Match Found\n",
      "Match Found\n"
     ]
    }
   ],
   "source": [
    "print(string_match(\"apple\"))\n",
    "print(string_match(\"bat\"))"
   ]
  },
  {
   "cell_type": "markdown",
   "id": "5de33e09",
   "metadata": {},
   "source": [
    "Question 5- Write a Python program that matches a string that has an a followed by three 'b'."
   ]
  },
  {
   "cell_type": "code",
   "execution_count": 11,
   "id": "f236f885",
   "metadata": {},
   "outputs": [],
   "source": [
    "def string_match(string):\n",
    "    pattern = 'ab{3}?'\n",
    "    if re.search(pattern, string):\n",
    "        return 'Match Found'\n",
    "    else:\n",
    "        return 'Match Not Found'"
   ]
  },
  {
   "cell_type": "code",
   "execution_count": 12,
   "id": "3cb14ae2",
   "metadata": {},
   "outputs": [
    {
     "name": "stdout",
     "output_type": "stream",
     "text": [
      "Match Not Found\n"
     ]
    }
   ],
   "source": [
    "print (string_match(\"abala\"))"
   ]
  },
  {
   "cell_type": "code",
   "execution_count": 13,
   "id": "17669f14",
   "metadata": {},
   "outputs": [
    {
     "name": "stdout",
     "output_type": "stream",
     "text": [
      "Match Found\n"
     ]
    }
   ],
   "source": [
    "print(string_match(\"abbbeee\"))"
   ]
  },
  {
   "cell_type": "code",
   "execution_count": 14,
   "id": "887df1ff",
   "metadata": {},
   "outputs": [
    {
     "name": "stdout",
     "output_type": "stream",
     "text": [
      "Match Found\n"
     ]
    }
   ],
   "source": [
    "print(string_match(\"aaaabbbbeeeccbbb\"))"
   ]
  },
  {
   "cell_type": "markdown",
   "id": "491fe468",
   "metadata": {},
   "source": [
    "Question 6- Write a regular expression in Python to split a string into uppercase letters.\n",
    "Sample text: “ImportanceOfRegularExpressionsInPython”\n",
    "Output: [‘Importance’, ‘Of’, ‘Regular’, ‘Expression’, ‘In’, ‘Python’]\n"
   ]
  },
  {
   "cell_type": "code",
   "execution_count": 15,
   "id": "0036bfa1",
   "metadata": {},
   "outputs": [],
   "source": [
    "import re"
   ]
  },
  {
   "cell_type": "code",
   "execution_count": 16,
   "id": "1c52aa06",
   "metadata": {},
   "outputs": [
    {
     "data": {
      "text/plain": [
       "['Importance', 'Of', 'Regular', 'Expressions', 'In', 'Python']"
      ]
     },
     "execution_count": 16,
     "metadata": {},
     "output_type": "execute_result"
    }
   ],
   "source": [
    "re.findall('[A-Z][^A-Z]*', 'ImportanceOfRegularExpressionsInPython')"
   ]
  },
  {
   "cell_type": "markdown",
   "id": "4d002a71",
   "metadata": {},
   "source": [
    "Question 7- Write a Python program that matches a string that has an a followed by two to three 'b'.\n",
    "\n"
   ]
  },
  {
   "cell_type": "code",
   "execution_count": 17,
   "id": "65074ce6",
   "metadata": {},
   "outputs": [],
   "source": [
    "import re"
   ]
  },
  {
   "cell_type": "code",
   "execution_count": 18,
   "id": "d3529565",
   "metadata": {},
   "outputs": [],
   "source": [
    "def string_match(string):\n",
    "    pattern = 'ab{2,3}?'\n",
    "    if re.search(pattern, string):\n",
    "        return 'Match Found'\n",
    "    else:\n",
    "        return 'Match Not Found'"
   ]
  },
  {
   "cell_type": "code",
   "execution_count": 19,
   "id": "193add41",
   "metadata": {},
   "outputs": [
    {
     "name": "stdout",
     "output_type": "stream",
     "text": [
      "Match Not Found\n"
     ]
    }
   ],
   "source": [
    "print(string_match(\"abcd\"))"
   ]
  },
  {
   "cell_type": "code",
   "execution_count": 20,
   "id": "f6251673",
   "metadata": {},
   "outputs": [
    {
     "name": "stdout",
     "output_type": "stream",
     "text": [
      "Match Found\n"
     ]
    }
   ],
   "source": [
    "print(string_match(\"abbcdebbb\"))"
   ]
  },
  {
   "cell_type": "markdown",
   "id": "ca221154",
   "metadata": {},
   "source": [
    "Question 8- Write a Python program to find sequences of lowercase letters joined with a underscore."
   ]
  },
  {
   "cell_type": "code",
   "execution_count": 21,
   "id": "f260b32c",
   "metadata": {},
   "outputs": [],
   "source": [
    "import re"
   ]
  },
  {
   "cell_type": "code",
   "execution_count": 22,
   "id": "b47e39ec",
   "metadata": {},
   "outputs": [],
   "source": [
    "def string_match(string):\n",
    "    pattern = '[a-z]+_[a-z]+'\n",
    "    if re.search(pattern, string):\n",
    "        return 'Match Found'\n",
    "    else:\n",
    "        return 'Match Not Found'"
   ]
  },
  {
   "cell_type": "code",
   "execution_count": 23,
   "id": "42604229",
   "metadata": {},
   "outputs": [
    {
     "name": "stdout",
     "output_type": "stream",
     "text": [
      "Match Found\n"
     ]
    }
   ],
   "source": [
    "print(string_match(\"anna_hr\"))"
   ]
  },
  {
   "cell_type": "code",
   "execution_count": 24,
   "id": "27dbb33d",
   "metadata": {},
   "outputs": [
    {
     "name": "stdout",
     "output_type": "stream",
     "text": [
      "Match Not Found\n"
     ]
    }
   ],
   "source": [
    "print(string_match(\"HR_anna\"))"
   ]
  },
  {
   "cell_type": "markdown",
   "id": "f1119bd7",
   "metadata": {},
   "source": [
    "Question 9- Write a Python program that matches a string that has an 'a' followed by anything, ending in 'b'."
   ]
  },
  {
   "cell_type": "code",
   "execution_count": 25,
   "id": "a85e6f9e",
   "metadata": {},
   "outputs": [],
   "source": [
    "import re\n",
    "\n",
    "def string_match(string):\n",
    "    pattern = 'a.*?b$'\n",
    "    if re.search(pattern, string):\n",
    "        return 'Match Found'\n",
    "    else:\n",
    "        return 'Match Not Found'"
   ]
  },
  {
   "cell_type": "code",
   "execution_count": 26,
   "id": "85ecc1e8",
   "metadata": {},
   "outputs": [
    {
     "name": "stdout",
     "output_type": "stream",
     "text": [
      "Match Found\n",
      "Match Not Found\n",
      "Match Found\n"
     ]
    }
   ],
   "source": [
    "print(string_match(\"ab\"))\n",
    "print(string_match(\"abba\"))\n",
    "print(string_match(\"asdfs*eb\"))"
   ]
  },
  {
   "cell_type": "markdown",
   "id": "8f9de2c5",
   "metadata": {},
   "source": [
    "Question 10- Write a Python program that matches a word at the beginning of a string.\n",
    "\n"
   ]
  },
  {
   "cell_type": "code",
   "execution_count": 27,
   "id": "0b9dc745",
   "metadata": {},
   "outputs": [],
   "source": [
    "import re\n",
    "\n",
    "def string_match(string):\n",
    "    pattern = '^\\w+'\n",
    "    if re.search(pattern, string):\n",
    "        return 'Match Found'\n",
    "    else:\n",
    "        return 'Match Not Found'"
   ]
  },
  {
   "cell_type": "code",
   "execution_count": 28,
   "id": "9878a787",
   "metadata": {},
   "outputs": [
    {
     "name": "stdout",
     "output_type": "stream",
     "text": [
      "Match Found\n",
      "Match Not Found\n",
      "Match Found\n"
     ]
    }
   ],
   "source": [
    "print(string_match(\"Hello DataScience\"))\n",
    "print(string_match(\"  Hello DataScience\"))\n",
    "print(string_match(\"2152 Hello DataScience\"))"
   ]
  },
  {
   "cell_type": "markdown",
   "id": "b97449d0",
   "metadata": {},
   "source": [
    "Question 11- Write a Python program to match a string that contains only upper and lowercase letters, numbers, and underscores."
   ]
  },
  {
   "cell_type": "code",
   "execution_count": 29,
   "id": "c1247b89",
   "metadata": {},
   "outputs": [],
   "source": [
    "import re\n",
    "\n",
    "def string_match(string):\n",
    "    pattern = '^[a-zA-Z0-9_]*$'\n",
    "    if re.search(pattern, string):\n",
    "        return 'Match Found'\n",
    "    else:\n",
    "        return 'Match Not Found'\n",
    "    "
   ]
  },
  {
   "cell_type": "code",
   "execution_count": 30,
   "id": "bf79c16c",
   "metadata": {},
   "outputs": [
    {
     "name": "stdout",
     "output_type": "stream",
     "text": [
      "Match Found\n",
      "Match Not Found\n"
     ]
    }
   ],
   "source": [
    "print(string_match(\"Hello_DataScience_batch2306\"))\n",
    "print(string_match(\"Hello DataScience\"))"
   ]
  },
  {
   "cell_type": "markdown",
   "id": "c76ea26c",
   "metadata": {},
   "source": [
    "Question 12- Write a Python program where a string will start with a specific number. \n",
    "\n"
   ]
  },
  {
   "cell_type": "code",
   "execution_count": 31,
   "id": "2b383cdf",
   "metadata": {},
   "outputs": [],
   "source": [
    "import re\n",
    "\n",
    "def num_match(string):\n",
    "    text = re.compile(r'^4')\n",
    "    if re.search(text, string):\n",
    "        return 'Match Found'\n",
    "    else:\n",
    "        return 'Match Not Found'"
   ]
  },
  {
   "cell_type": "code",
   "execution_count": 32,
   "id": "e6667e5a",
   "metadata": {},
   "outputs": [
    {
     "name": "stdout",
     "output_type": "stream",
     "text": [
      "Match Found\n",
      "Match Found\n",
      "Match Not Found\n"
     ]
    }
   ],
   "source": [
    "print(num_match(\"400\"))\n",
    "print(num_match(\"423_Data\"))\n",
    "print(num_match(\"Data_423\"))"
   ]
  },
  {
   "cell_type": "markdown",
   "id": "7d15758e",
   "metadata": {},
   "source": [
    "Question 13- Write a Python program to remove leading zeros from an IP address"
   ]
  },
  {
   "cell_type": "code",
   "execution_count": 33,
   "id": "23acbaaf",
   "metadata": {},
   "outputs": [
    {
     "name": "stdout",
     "output_type": "stream",
     "text": [
      "589.3.124.214\n"
     ]
    }
   ],
   "source": [
    "import re\n",
    "\n",
    "IP_address = \"589.03.124.214\"\n",
    "string = re.sub('\\.[0]*', '.', IP_address)\n",
    "print(string)"
   ]
  },
  {
   "cell_type": "markdown",
   "id": "44dc0111",
   "metadata": {},
   "source": [
    "Question 14- Write a regular expression in python to match a date string in the form of Month name followed by day number and year stored in a text file.\n",
    "Sample text : ' On August 15th 1947 that India was declared independent from British colonialism, and the reins of control were handed over to the leaders of the Country’.\n"
   ]
  },
  {
   "cell_type": "code",
   "execution_count": 34,
   "id": "6838b9f8",
   "metadata": {},
   "outputs": [],
   "source": [
    "import re"
   ]
  },
  {
   "cell_type": "code",
   "execution_count": 35,
   "id": "b81cdf98",
   "metadata": {},
   "outputs": [],
   "source": [
    "text = \"On August 15th 1947 that India was declared independent from British colonialism, and the reins of control were handed over to the leaders of the Country\""
   ]
  },
  {
   "cell_type": "code",
   "execution_count": 36,
   "id": "92a9fed4",
   "metadata": {},
   "outputs": [],
   "source": [
    "date_pattern = r\"\\b\\w+\\s\\d+(?:st|nd|rd|th)? \\d{4}\\b\""
   ]
  },
  {
   "cell_type": "code",
   "execution_count": 37,
   "id": "09ec5a34",
   "metadata": {},
   "outputs": [],
   "source": [
    "match = re.match(date_pattern, text)"
   ]
  },
  {
   "cell_type": "code",
   "execution_count": 38,
   "id": "95e0cfbd",
   "metadata": {},
   "outputs": [],
   "source": [
    "if match:\n",
    "    date_string =  match.group()\n",
    "    print(date_string)"
   ]
  },
  {
   "cell_type": "code",
   "execution_count": null,
   "id": "6a303fae",
   "metadata": {},
   "outputs": [],
   "source": []
  },
  {
   "cell_type": "markdown",
   "id": "fcfeed35",
   "metadata": {},
   "source": [
    "Question 15- Write a Python program to search some literals strings in a string. Go to the editor\n",
    "Sample text : 'The quick brown fox jumps over the lazy dog.'\n",
    "Searched words : 'fox', 'dog', 'horse'\n",
    "\n"
   ]
  },
  {
   "cell_type": "code",
   "execution_count": 39,
   "id": "e4aac71b",
   "metadata": {},
   "outputs": [],
   "source": [
    "import re"
   ]
  },
  {
   "cell_type": "code",
   "execution_count": 40,
   "id": "1c21aa6c",
   "metadata": {},
   "outputs": [],
   "source": [
    "text = 'The quick brown fox jumps over the lazy dog.' "
   ]
  },
  {
   "cell_type": "code",
   "execution_count": 41,
   "id": "50d75c98",
   "metadata": {},
   "outputs": [],
   "source": [
    "words = re.search('fox|dog|horse',text)"
   ]
  },
  {
   "cell_type": "code",
   "execution_count": 42,
   "id": "c1e92600",
   "metadata": {},
   "outputs": [
    {
     "name": "stdout",
     "output_type": "stream",
     "text": [
      "Match Found\n"
     ]
    }
   ],
   "source": [
    "if words:\n",
    "    print('Match Found')\n",
    "else:\n",
    "    print('Match Not Found')"
   ]
  },
  {
   "cell_type": "markdown",
   "id": "d7d5903d",
   "metadata": {},
   "source": [
    "Question 16- Write a Python program to search a literals string in a string and also find the location within the original string where the pattern occurs\n",
    "Sample text : 'The quick brown fox jumps over the lazy dog.'\n",
    "Searched words : 'fox'\n"
   ]
  },
  {
   "cell_type": "code",
   "execution_count": 43,
   "id": "3bc8f49f",
   "metadata": {},
   "outputs": [],
   "source": [
    "import re"
   ]
  },
  {
   "cell_type": "code",
   "execution_count": 44,
   "id": "9d8deab8",
   "metadata": {},
   "outputs": [],
   "source": [
    "text = 'The quick brown fox jumps over the lazy dog.'"
   ]
  },
  {
   "cell_type": "code",
   "execution_count": 45,
   "id": "7121a82d",
   "metadata": {},
   "outputs": [],
   "source": [
    "word = re.search('\\Wfox\\W', text)"
   ]
  },
  {
   "cell_type": "code",
   "execution_count": 46,
   "id": "b1b5cf11",
   "metadata": {},
   "outputs": [
    {
     "name": "stdout",
     "output_type": "stream",
     "text": [
      "Match Found, located on 15\n"
     ]
    }
   ],
   "source": [
    "if word:\n",
    "    print('Match Found, located on', word.start())\n",
    "else:\n",
    "    print('Match not found')"
   ]
  },
  {
   "cell_type": "markdown",
   "id": "453da173",
   "metadata": {},
   "source": [
    "Question 17- Write a Python program to find the substrings within a string.\n",
    "Sample text : 'Python exercises, PHP exercises, C# exercises'\n",
    "Pattern : 'exercises'.\n"
   ]
  },
  {
   "cell_type": "code",
   "execution_count": 47,
   "id": "071dc6ea",
   "metadata": {},
   "outputs": [],
   "source": [
    "import re"
   ]
  },
  {
   "cell_type": "code",
   "execution_count": 48,
   "id": "b9aed1f9",
   "metadata": {},
   "outputs": [],
   "source": [
    "string = 'Python exercises, PHP exercises, C# exercises'"
   ]
  },
  {
   "cell_type": "code",
   "execution_count": 49,
   "id": "51800a00",
   "metadata": {},
   "outputs": [],
   "source": [
    "substring = 'exercises'"
   ]
  },
  {
   "cell_type": "code",
   "execution_count": 50,
   "id": "86cd0556",
   "metadata": {},
   "outputs": [],
   "source": [
    "match = re.findall(substring, string)"
   ]
  },
  {
   "cell_type": "code",
   "execution_count": 51,
   "id": "b06874fb",
   "metadata": {},
   "outputs": [
    {
     "name": "stdout",
     "output_type": "stream",
     "text": [
      "Match Found 3\n"
     ]
    }
   ],
   "source": [
    "if match:\n",
    "    print('Match Found',len(match))\n",
    "else:\n",
    "    print('Match Not Found')"
   ]
  },
  {
   "cell_type": "markdown",
   "id": "0a1c3c10",
   "metadata": {},
   "source": [
    "Question 18- Write a Python program to find the occurrence and position of the substrings within a string."
   ]
  },
  {
   "cell_type": "code",
   "execution_count": 52,
   "id": "433caf08",
   "metadata": {},
   "outputs": [],
   "source": [
    "import re"
   ]
  },
  {
   "cell_type": "code",
   "execution_count": 53,
   "id": "03b2201f",
   "metadata": {},
   "outputs": [],
   "source": [
    "string = 'Python exercises, PHP exercises, C# exercises'"
   ]
  },
  {
   "cell_type": "code",
   "execution_count": 54,
   "id": "23392f0e",
   "metadata": {},
   "outputs": [],
   "source": [
    "substring = 'exercises'"
   ]
  },
  {
   "cell_type": "code",
   "execution_count": 55,
   "id": "ad63951a",
   "metadata": {},
   "outputs": [
    {
     "name": "stdout",
     "output_type": "stream",
     "text": [
      "Match found \"exercises\" at 7:16\n",
      "Match found \"exercises\" at 22:31\n",
      "Match found \"exercises\" at 36:45\n"
     ]
    }
   ],
   "source": [
    "for match in re.finditer(substring, string):\n",
    "    start = match.start()\n",
    "    end = match.end()\n",
    "    print('Match found \"%s\" at %d:%d' % (string[start:end],start, end))"
   ]
  },
  {
   "cell_type": "markdown",
   "id": "118928d8",
   "metadata": {},
   "source": [
    "Question 19- Write a Python program to convert a date of yyyy-mm-dd format to dd-mm-yyyy format.\n",
    "\n"
   ]
  },
  {
   "cell_type": "code",
   "execution_count": 56,
   "id": "af59a899",
   "metadata": {},
   "outputs": [],
   "source": [
    "import re"
   ]
  },
  {
   "cell_type": "code",
   "execution_count": 57,
   "id": "2ad67186",
   "metadata": {},
   "outputs": [],
   "source": [
    "def new_date_format(date):\n",
    "    return re.sub(r'(\\d{4})-(\\d{1,2})-(\\d{1,2})','\\\\3-\\\\2-\\\\1', date)"
   ]
  },
  {
   "cell_type": "code",
   "execution_count": 58,
   "id": "46a91a23",
   "metadata": {},
   "outputs": [],
   "source": [
    "Today_date = \"2023-07-15\""
   ]
  },
  {
   "cell_type": "code",
   "execution_count": 59,
   "id": "55515c8d",
   "metadata": {},
   "outputs": [
    {
     "name": "stdout",
     "output_type": "stream",
     "text": [
      "Today's date in YYY-MM-DD Format:  2023-07-15\n"
     ]
    }
   ],
   "source": [
    "print(\"Today's date in YYY-MM-DD Format: \",Today_date)"
   ]
  },
  {
   "cell_type": "code",
   "execution_count": 60,
   "id": "f9697866",
   "metadata": {},
   "outputs": [
    {
     "name": "stdout",
     "output_type": "stream",
     "text": [
      "New date in DD-MM-YYYY Format:  15-07-2023\n"
     ]
    }
   ],
   "source": [
    "print(\"New date in DD-MM-YYYY Format: \",new_date_format(Today_date))"
   ]
  },
  {
   "cell_type": "markdown",
   "id": "74124644",
   "metadata": {},
   "source": [
    "Question 20- Write a Python program to find all words starting with 'a' or 'e' in a given string.\n",
    "\n"
   ]
  },
  {
   "cell_type": "code",
   "execution_count": 61,
   "id": "0a23aceb",
   "metadata": {},
   "outputs": [],
   "source": [
    "import re"
   ]
  },
  {
   "cell_type": "code",
   "execution_count": 62,
   "id": "43772cd4",
   "metadata": {},
   "outputs": [],
   "source": [
    "string = \"DataScience is Today's world\"\n",
    "word = re.findall(\"[ae]\\w+\", string)"
   ]
  },
  {
   "cell_type": "code",
   "execution_count": 63,
   "id": "7b26c864",
   "metadata": {},
   "outputs": [
    {
     "name": "stdout",
     "output_type": "stream",
     "text": [
      "['ataScience', 'ay']\n"
     ]
    }
   ],
   "source": [
    "print(word)"
   ]
  },
  {
   "cell_type": "markdown",
   "id": "64294871",
   "metadata": {},
   "source": [
    "Question 21- Write a Python program to separate and print the numbers and their position of a given string."
   ]
  },
  {
   "cell_type": "code",
   "execution_count": 64,
   "id": "84e315d8",
   "metadata": {},
   "outputs": [],
   "source": [
    "import re"
   ]
  },
  {
   "cell_type": "code",
   "execution_count": 65,
   "id": "bc930629",
   "metadata": {},
   "outputs": [],
   "source": [
    "string = \"DataScience is evolving in Today's 21st century\""
   ]
  },
  {
   "cell_type": "code",
   "execution_count": 66,
   "id": "7f218bdf",
   "metadata": {},
   "outputs": [
    {
     "name": "stdout",
     "output_type": "stream",
     "text": [
      "21\n",
      "Their Position:  35\n"
     ]
    }
   ],
   "source": [
    "for n in re.finditer(\"\\d+\", string):\n",
    "    print(n.group(0))\n",
    "    print(\"Their Position: \",n.start())"
   ]
  },
  {
   "cell_type": "markdown",
   "id": "71fe7cfb",
   "metadata": {},
   "source": [
    "Question 22- Write a regular expression in python program to extract maximum numeric value from a string"
   ]
  },
  {
   "cell_type": "code",
   "execution_count": 67,
   "id": "dc61fd6b",
   "metadata": {},
   "outputs": [],
   "source": [
    "import re"
   ]
  },
  {
   "cell_type": "code",
   "execution_count": 68,
   "id": "06d6c911",
   "metadata": {},
   "outputs": [],
   "source": [
    "text = '123abcded5893af'"
   ]
  },
  {
   "cell_type": "code",
   "execution_count": 69,
   "id": "cf9721d1",
   "metadata": {},
   "outputs": [],
   "source": [
    "num = re.findall('\\d+', text)"
   ]
  },
  {
   "cell_type": "code",
   "execution_count": 70,
   "id": "d5b14bac",
   "metadata": {},
   "outputs": [],
   "source": [
    "num = map(int, num)"
   ]
  },
  {
   "cell_type": "code",
   "execution_count": 71,
   "id": "d0369073",
   "metadata": {},
   "outputs": [
    {
     "name": "stdout",
     "output_type": "stream",
     "text": [
      "Maximum_value:  5893\n"
     ]
    }
   ],
   "source": [
    "print(\"Maximum_value: \", max(num))"
   ]
  },
  {
   "cell_type": "markdown",
   "id": "9eac28fb",
   "metadata": {},
   "source": [
    "Question 23- Write a Regex in Python to put spaces between words starting with capital letters"
   ]
  },
  {
   "cell_type": "code",
   "execution_count": 72,
   "id": "466d67a3",
   "metadata": {},
   "outputs": [],
   "source": [
    "import re"
   ]
  },
  {
   "cell_type": "code",
   "execution_count": 73,
   "id": "3d434a48",
   "metadata": {},
   "outputs": [],
   "source": [
    "def words_with_capital(text):\n",
    "    return re.sub(r\"(\\w)([A-Z])\",r\"\\1 \\2\", text)"
   ]
  },
  {
   "cell_type": "code",
   "execution_count": 74,
   "id": "df9ad6e1",
   "metadata": {},
   "outputs": [
    {
     "name": "stdout",
     "output_type": "stream",
     "text": [
      "Data Science\n"
     ]
    }
   ],
   "source": [
    "print(words_with_capital(\"DataScience\"))"
   ]
  },
  {
   "cell_type": "code",
   "execution_count": 75,
   "id": "06386d95",
   "metadata": {},
   "outputs": [
    {
     "name": "stdout",
     "output_type": "stream",
     "text": [
      "Data Science IS Current World\n"
     ]
    }
   ],
   "source": [
    "print(words_with_capital(\"DataScienceISCurrentWorld\"))"
   ]
  },
  {
   "cell_type": "markdown",
   "id": "53332db2",
   "metadata": {},
   "source": [
    "Question 24- Python regex to find sequences of one upper case letter followed by lower case letters"
   ]
  },
  {
   "cell_type": "code",
   "execution_count": 76,
   "id": "d98da43b",
   "metadata": {},
   "outputs": [],
   "source": [
    "import re"
   ]
  },
  {
   "cell_type": "code",
   "execution_count": 77,
   "id": "56efb77a",
   "metadata": {},
   "outputs": [],
   "source": [
    "def sequence(string):\n",
    "    pattern = '[A-Z]+[a-z]+'\n",
    "    if re.search(pattern, string):\n",
    "        return 'Match Found'\n",
    "    else:\n",
    "        return 'Match Not Found'"
   ]
  },
  {
   "cell_type": "code",
   "execution_count": 78,
   "id": "44f6c1dc",
   "metadata": {},
   "outputs": [
    {
     "name": "stdout",
     "output_type": "stream",
     "text": [
      "Match Found\n"
     ]
    }
   ],
   "source": [
    "print(sequence(\"DataScience\"))"
   ]
  },
  {
   "cell_type": "code",
   "execution_count": 79,
   "id": "d2a77867",
   "metadata": {},
   "outputs": [
    {
     "name": "stdout",
     "output_type": "stream",
     "text": [
      "Match Not Found\n"
     ]
    }
   ],
   "source": [
    "print(sequence(\"abadchek\"))"
   ]
  },
  {
   "cell_type": "markdown",
   "id": "c03e8ec3",
   "metadata": {},
   "source": [
    "Question 25- Write a Python program to remove duplicate words from Sentence using Regular Expression"
   ]
  },
  {
   "cell_type": "code",
   "execution_count": 80,
   "id": "2ecfed11",
   "metadata": {},
   "outputs": [],
   "source": [
    "import re"
   ]
  },
  {
   "cell_type": "code",
   "execution_count": 81,
   "id": "15d1ccb8",
   "metadata": {},
   "outputs": [],
   "source": [
    "def remove_duplicate_words(string):\n",
    "    pattern = r'\\b(\\w+)(?:\\W+\\1\\b)+'\n",
    "    return re.sub(pattern, r'\\1',string, flags=re.IGNORECASE)"
   ]
  },
  {
   "cell_type": "code",
   "execution_count": 82,
   "id": "c6b4ac6a",
   "metadata": {},
   "outputs": [
    {
     "name": "stdout",
     "output_type": "stream",
     "text": [
      "hello world\n"
     ]
    }
   ],
   "source": [
    "print(remove_duplicate_words(\"hello hello world\"))"
   ]
  },
  {
   "cell_type": "code",
   "execution_count": 83,
   "id": "56904b6c",
   "metadata": {},
   "outputs": [
    {
     "name": "stdout",
     "output_type": "stream",
     "text": [
      "hello world\n"
     ]
    }
   ],
   "source": [
    "print(remove_duplicate_words(\"hello Hello world\"))"
   ]
  },
  {
   "cell_type": "markdown",
   "id": "accdfca0",
   "metadata": {},
   "source": [
    "Question 26-  Write a python program using RegEx to accept string ending with alphanumeric character.\n",
    "\n"
   ]
  },
  {
   "cell_type": "code",
   "execution_count": 84,
   "id": "3f2ba619",
   "metadata": {},
   "outputs": [],
   "source": [
    "import re"
   ]
  },
  {
   "cell_type": "code",
   "execution_count": 85,
   "id": "d5af605b",
   "metadata": {},
   "outputs": [],
   "source": [
    "pattern = '[a-zA-z0-9]$'"
   ]
  },
  {
   "cell_type": "code",
   "execution_count": 86,
   "id": "2726950f",
   "metadata": {},
   "outputs": [],
   "source": [
    "def alphanumeric_char(text):\n",
    "    if(re.search(pattern,text)):\n",
    "        print(\"Accept string\")\n",
    "    else:\n",
    "        print(\"Discard string\")\n",
    "        \n",
    "    "
   ]
  },
  {
   "cell_type": "code",
   "execution_count": 87,
   "id": "d995cf02",
   "metadata": {},
   "outputs": [
    {
     "name": "stdout",
     "output_type": "stream",
     "text": [
      "Discard string\n",
      "None\n",
      "Accept string\n",
      "None\n"
     ]
    }
   ],
   "source": [
    "print(alphanumeric_char(\"datascience@\"))\n",
    "print(alphanumeric_char(\"datascience\"))"
   ]
  },
  {
   "cell_type": "markdown",
   "id": "3b778fe2",
   "metadata": {},
   "source": [
    "Question 27-Write a python program using RegEx to extract the hashtags.\n",
    "Sample Text: text = \"\"\"RT @kapil_kausik: #Doltiwal I mean #xyzabc is \"hurt\" by #Demonetization as the same has rendered USELESS <ed><U+00A0><U+00BD><ed><U+00B1><U+0089> \"acquired funds\" No wo\"\"\"\n",
    "Output: ['#Doltiwal', '#xyzabc', '#Demonetization']\n"
   ]
  },
  {
   "cell_type": "code",
   "execution_count": 88,
   "id": "f501c476",
   "metadata": {},
   "outputs": [],
   "source": [
    "import re"
   ]
  },
  {
   "cell_type": "code",
   "execution_count": 89,
   "id": "69aacb4b",
   "metadata": {},
   "outputs": [],
   "source": [
    "string = \"\"\"RT @kapil_kausik: #Doltiwal I mean #xyzabc is \"hurt\" by #Demonetization as the same has rendered USELESS <U+00A0><U+00BD><U+00B1><U+0089> \"acquired funds\" No wo\"\"\" "
   ]
  },
  {
   "cell_type": "code",
   "execution_count": 90,
   "id": "71191ac8",
   "metadata": {},
   "outputs": [
    {
     "data": {
      "text/plain": [
       "['#Doltiwal', '#xyzabc', '#Demonetization']"
      ]
     },
     "execution_count": 90,
     "metadata": {},
     "output_type": "execute_result"
    }
   ],
   "source": [
    "pattern = r'#\\S+'\n",
    "re.findall(pattern, string)"
   ]
  },
  {
   "cell_type": "markdown",
   "id": "23ec239f",
   "metadata": {},
   "source": [
    "Question 28- Write a python program using RegEx to remove <U+..> like symbols\n",
    "Check the below sample text, there are strange symbols something of the sort <U+..> all over the place. You need to come up with a general Regex expression that will cover all such symbols.\n",
    "\n",
    "Sample Text: \"@Jags123456 Bharat band on 28??<ed><U+00A0><U+00BD><ed><U+00B8><U+0082>Those who  are protesting #demonetization  are all different party leaders\""
   ]
  },
  {
   "cell_type": "code",
   "execution_count": 91,
   "id": "f03c8c72",
   "metadata": {},
   "outputs": [],
   "source": [
    "import re\n",
    "\n",
    "Text = \"@Jags123456 Bharat band on 28??<U+00A0><U+00BD><U+00B8><U+0082>Those who are protesting #demonetization are all different party leaders\""
   ]
  },
  {
   "cell_type": "code",
   "execution_count": 92,
   "id": "b2c558a2",
   "metadata": {},
   "outputs": [],
   "source": [
    "Pattern = r\"<U\\+[A-Z0-9]+>\"\n",
    "remove_text = re.sub(Pattern, \"\", Text)"
   ]
  },
  {
   "cell_type": "code",
   "execution_count": 93,
   "id": "86eea216",
   "metadata": {},
   "outputs": [
    {
     "name": "stdout",
     "output_type": "stream",
     "text": [
      "Old Text:\n",
      " @Jags123456 Bharat band on 28??<U+00A0><U+00BD><U+00B8><U+0082>Those who are protesting #demonetization are all different party leaders\n",
      "New Text:\n",
      " @Jags123456 Bharat band on 28??Those who are protesting #demonetization are all different party leaders\n"
     ]
    }
   ],
   "source": [
    "print(\"Old Text:\\n\",Text)\n",
    "print(\"New Text:\\n\", remove_text)"
   ]
  },
  {
   "cell_type": "markdown",
   "id": "5740c8c5",
   "metadata": {},
   "source": [
    "Question 29- Write a python program to extract dates from the text stored in the text file.\n",
    "Sample Text: Ron was born on 12-09-1992 and he was admitted to school 15-12-1999.\n",
    "Store this sample text in the file and then extract dates.\n"
   ]
  },
  {
   "cell_type": "code",
   "execution_count": 94,
   "id": "ccabcadd",
   "metadata": {},
   "outputs": [],
   "source": [
    "import re"
   ]
  },
  {
   "cell_type": "code",
   "execution_count": 95,
   "id": "3abc8a75",
   "metadata": {},
   "outputs": [],
   "source": [
    "def extract_dates_from_text(file_path):\n",
    "    with open(file_path, 'r') as file:\n",
    "        text = file.read()\n",
    "        dates = re.findall(r'\\d{2}-\\d{2}-\\d{4}', text)\n",
    "        return dates"
   ]
  },
  {
   "cell_type": "code",
   "execution_count": 96,
   "id": "382acf8a",
   "metadata": {},
   "outputs": [
    {
     "name": "stdout",
     "output_type": "stream",
     "text": [
      "Extracted dates:\n",
      "12-09-1992\n",
      "15-12-1999\n"
     ]
    }
   ],
   "source": [
    "\n",
    "file_path = 'sample_text.txt'  \n",
    "dates = extract_dates_from_text(file_path)\n",
    "print(\"Extracted dates:\")\n",
    "for date in dates:\n",
    "    print(date)"
   ]
  },
  {
   "cell_type": "markdown",
   "id": "5061cad5",
   "metadata": {},
   "source": [
    "Question 30- Write a Python program to replace all occurrences of a space, comma, or dot with a colon.\n",
    "Sample Text- 'Python Exercises, PHP exercises.'\n"
   ]
  },
  {
   "cell_type": "code",
   "execution_count": 97,
   "id": "aed3c625",
   "metadata": {},
   "outputs": [],
   "source": [
    "import re"
   ]
  },
  {
   "cell_type": "code",
   "execution_count": 98,
   "id": "b35edf02",
   "metadata": {},
   "outputs": [
    {
     "name": "stdout",
     "output_type": "stream",
     "text": [
      "Python:Exercises::PHP:exercises:\n"
     ]
    }
   ],
   "source": [
    "text = 'Python Exercises, PHP exercises.'\n",
    "print(re.sub(\"[ ,.]\", \":\", text)) "
   ]
  },
  {
   "cell_type": "code",
   "execution_count": null,
   "id": "10361915",
   "metadata": {},
   "outputs": [],
   "source": []
  }
 ],
 "metadata": {
  "kernelspec": {
   "display_name": "Python 3 (ipykernel)",
   "language": "python",
   "name": "python3"
  },
  "language_info": {
   "codemirror_mode": {
    "name": "ipython",
    "version": 3
   },
   "file_extension": ".py",
   "mimetype": "text/x-python",
   "name": "python",
   "nbconvert_exporter": "python",
   "pygments_lexer": "ipython3",
   "version": "3.9.13"
  }
 },
 "nbformat": 4,
 "nbformat_minor": 5
}
